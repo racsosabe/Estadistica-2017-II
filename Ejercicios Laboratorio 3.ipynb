{
 "cells": [
  {
   "cell_type": "markdown",
   "metadata": {},
   "source": [
    "# Ejercicios para el Laboratorio 3\n",
    "\n",
    "Analizar, programar y experimentar con los siguientes programas y subirlos a su Github en el repositorio de Tareas dentro de una carpeta llamada *Preliminares-Laboratorio-3*"
   ]
  },
  {
   "cell_type": "markdown",
   "metadata": {},
   "source": [
    "## Ejercicio 1: \n",
    "\n",
    "El siguiente programa es una implementación del algoritmo simple del Perceptrón para $\\mathbb{R}^{2}$, el cual halla una recta que aproxime correctamente la siguiente función:\n",
    "\n",
    "$$ f(x) = \\left \\{ \\begin{array}{cc} 1 &ax+b\\geq 0 \\\\ -1 &ax+b<0 \\end{array} \\right . $$\n",
    "\n",
    "Para algún ($a$,$b$) considerando que tenemos un conjunto de $(x_{i},y_{i})$ tales que $f(x_{i}) \\approx y_{i}$ "
   ]
  },
  {
   "cell_type": "code",
   "execution_count": 39,
   "metadata": {},
   "outputs": [
    {
     "data": {
      "text/html": [
       "'Valores exactos: w = 3 b = -50\n",
       "'"
      ],
      "text/latex": [
       "'Valores exactos: w = 3 b = -50\n",
       "'"
      ],
      "text/markdown": [
       "'Valores exactos: w = 3 b = -50\n",
       "'"
      ],
      "text/plain": [
       "[1] \"Valores exactos: w = 3 b = -50\\n\""
      ]
     },
     "metadata": {},
     "output_type": "display_data"
    },
    {
     "data": {
      "text/html": [
       "'Valores calculados: w = 1 b = -12\n",
       "'"
      ],
      "text/latex": [
       "'Valores calculados: w = 1 b = -12\n",
       "'"
      ],
      "text/markdown": [
       "'Valores calculados: w = 1 b = -12\n",
       "'"
      ],
      "text/plain": [
       "[1] \"Valores calculados: w = 1 b = -12\\n\""
      ]
     },
     "metadata": {},
     "output_type": "display_data"
    }
   ],
   "source": [
    "f <- function(w,b,x){ # Declaramos la función f que tomará como argumentos w,b y x\n",
    "    return(w*x+b) # Devuelve f(x) = wx+b\n",
    "}\n",
    "\n",
    "training_tests_input <- sample(c(1:100),sample(c(1:100),1),replace=F) # Generamos una cantidad aleatoria de datos aleatorios\n",
    "training_tests_output <- sign(3*training_tests_input-50) # Asignamos los valores correctos de la función signo de f(x) = 3x-50\n",
    "n <- length(training_tests_input) # Asignamos el tamaño del training set\n",
    "w <- 0 # Inicializamos nuestra pendiente con 0\n",
    "b <- 0 # Inicializamos nuestro intercepto con 0\n",
    "errors <- T # Variable que nos ayudará a verificar cuándo acabar la iteración\n",
    "while (errors){\n",
    "    errors <- F # Se debe ajustar siempre a Falso y luego verificar si hay algún error\n",
    "    for (i in 1:n){ # Iteración sobre cada elemento del training set\n",
    "        val <- sign(f(w,b,training_tests_input[i]))*training_tests_output[i] # Verificamos si el signo de nuestra funcion aproximada es igual al correcto\n",
    "        if ( val <= 0 ){ # No son iguales\n",
    "            w <- w + training_tests_input[i]*training_tests_output[i] # Modificamos la pendiente \"empujandola\" hacia la respuesta correcta\n",
    "            b <- b + training_tests_output[i] # Modificamos el intercepto \"empujandolo\" al intercepto base\n",
    "            errors <- T # Se encontró un error, entonces deberemos iterar una vez más\n",
    "        }\n",
    "    }\n",
    "}\n",
    "sprintf(\"Valores exactos: w = %d b = %d\\n\",3,-50) # Imprimimos al estilo del lenguaje C los valores correctos\n",
    "sprintf(\"Valores calculados: w = %d b = %d\\n\",w,b) # Imprimimos al estilo del lenguaje C los valores aproximados"
   ]
  },
  {
   "cell_type": "markdown",
   "metadata": {},
   "source": [
    "## Ejercicio 2\n",
    "\n",
    "El siguiente programa nos muestra cómo calcular el *epsilon de la máquina* mediante un algoritmo simple.\n",
    "\n",
    "** Epsilon de la máquina **: Se le llama así al menor real tal que la siguiente desigualdad se cumpla al momento de realizar cálculos aritméticos internos para la computadora:\n",
    "$$ \\varepsilon_{maquina} \\Longrightarrow \\min_{\\varepsilon}{\\{\\varepsilon : {(1+\\varepsilon) > 1}\\}} $$\n",
    "\n",
    "Se supone que R tiene su epsilon almacenado en una variable llamada .Machine$double.eps, las compararemos para verificar si nuestro algoritmo funciona correctamente."
   ]
  },
  {
   "cell_type": "code",
   "execution_count": 58,
   "metadata": {},
   "outputs": [
    {
     "name": "stdout",
     "output_type": "stream",
     "text": [
      "[1] 2.22044605e-16\n",
      "[1] \"Ambos valores son iguales\"\n"
     ]
    }
   ],
   "source": [
    "eps <- 1.0 # Inicializamos EPS con una potencia de 2 (dado que la computadora trabaja con bits)\n",
    "while(1.0+eps>1.0){ # Condición para la iteración, en este caso es que se dé que (1+EPS) > 1\n",
    "    eps <- 0.5*eps # Dividimos entre 2 el valor de EPS (desde un punto de vista más estricto, movemos un bit hacia la derecha para reducir el valor)\n",
    "}\n",
    "eps <- 2*eps # Este valor es el primero que cumple con que (1+EPS) <= 1, así que el menor posible es el anterior a este (2*EPS)\n",
    "print(eps,digits=\"9\") # Imprimimos EPS con lenguaje R con 9 dígitos significativos\n",
    "if(identical(eps,.Machine$double.eps)){\n",
    "    print(\"Ambos valores son iguales\")\n",
    "}"
   ]
  },
  {
   "cell_type": "markdown",
   "metadata": {},
   "source": [
    "## Ejercicio 3\n",
    "\n",
    "El siguiente programa usa el *Método de Bisección* para hallar la raíz de la ecuación:\n",
    "$$ \\mathrm{e}^{x}-1 = 0 $$\n",
    "Tomando como límites los valores de -10 y 10. Dado que el método halla una aproximación, debemos determinar una tolerancia de error definida por nosotros. En este caso tomaremos $10^{-8}$, modifique este código para que dé el mismo resultado pero usando las funciones *all.equal* y *isTRUE*."
   ]
  },
  {
   "cell_type": "code",
   "execution_count": 77,
   "metadata": {},
   "outputs": [
    {
     "data": {
      "text/html": [
       "'La raiz aproximada es 0.00000000\n",
       "'"
      ],
      "text/latex": [
       "'La raiz aproximada es 0.00000000\n",
       "'"
      ],
      "text/markdown": [
       "'La raiz aproximada es 0.00000000\n",
       "'"
      ],
      "text/plain": [
       "[1] \"La raiz aproximada es 0.00000000\\n\""
      ]
     },
     "metadata": {},
     "output_type": "display_data"
    }
   ],
   "source": [
    "f <- function(x){\n",
    "    return(exp(x)-1)\n",
    "}\n",
    "\n",
    "limite_inferior <- -10\n",
    "limite_superior <- 10\n",
    "while(limite_superior-limite_inferior>=1e-8){\n",
    "    punto_medio <- (limite_inferior+limite_superior)/2\n",
    "    if (f(punto_medio) < 0){\n",
    "        limite_inferior <- punto_medio\n",
    "    }\n",
    "    else{\n",
    "        limite_superior <- punto_medio\n",
    "    }\n",
    "}\n",
    "sprintf(\"La raiz aproximada es %.8f\\n\",limite_superior)"
   ]
  },
  {
   "cell_type": "markdown",
   "metadata": {},
   "source": [
    "## Solución al problema 3"
   ]
  },
  {
   "cell_type": "code",
   "execution_count": 76,
   "metadata": {},
   "outputs": [
    {
     "data": {
      "text/html": [
       "'La raiz aproximada es 0.00000000\n",
       "'"
      ],
      "text/latex": [
       "'La raiz aproximada es 0.00000000\n",
       "'"
      ],
      "text/markdown": [
       "'La raiz aproximada es 0.00000000\n",
       "'"
      ],
      "text/plain": [
       "[1] \"La raiz aproximada es 0.00000000\\n\""
      ]
     },
     "metadata": {},
     "output_type": "display_data"
    }
   ],
   "source": [
    "f <- function(x){\n",
    "    return(exp(x)-1)\n",
    "}\n",
    "\n",
    "limite_inferior <- -10\n",
    "limite_superior <- 10\n",
    "\n",
    "while(isTRUE(all.equal(limite_inferior,limite_superior,tolerance=1e-8)) == F){\n",
    "    punto_medio <- (limite_inferior+limite_superior)/2\n",
    "    if (f(punto_medio) < 0){\n",
    "        limite_inferior <- punto_medio\n",
    "    }\n",
    "    else{\n",
    "        limite_superior <- punto_medio\n",
    "    }\n",
    "}\n",
    "sprintf(\"La raiz aproximada es %.8f\\n\",limite_superior)"
   ]
  }
 ],
 "metadata": {
  "kernelspec": {
   "display_name": "R",
   "language": "R",
   "name": "ir"
  },
  "language_info": {
   "codemirror_mode": "r",
   "file_extension": ".r",
   "mimetype": "text/x-r-source",
   "name": "R",
   "pygments_lexer": "r",
   "version": "3.4.1"
  }
 },
 "nbformat": 4,
 "nbformat_minor": 2
}
