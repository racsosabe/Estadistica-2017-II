{
 "cells": [
  {
   "cell_type": "markdown",
   "metadata": {},
   "source": [
    "# Factores, data frames y listas"
   ]
  },
  {
   "cell_type": "code",
   "execution_count": 14,
   "metadata": {},
   "outputs": [
    {
     "name": "stdout",
     "output_type": "stream",
     "text": [
      "[1] S  M  L  XL M  S  L  M  XL\n",
      "Levels: S M L XL\n",
      "[1] Poco        Mas o Menos Mucho       Poco        Mas o Menos\n",
      "Levels: Mas o Menos Mucho Poco\n",
      "[1] Rojo     Verde    Amarillo Rojo     Amarillo Rojo    \n",
      "Levels: Amarillo Rojo Verde\n"
     ]
    }
   ],
   "source": [
    "Sizes <- factor(c(\"S\",\"M\",\"L\",\"XL\",\"M\",\"S\",\"L\",\"M\",\"XL\"), levels=c(\"S\",\"M\",\"L\",\"XL\"))\n",
    "\n",
    "Intensity <- factor(c(\"Poco\", \"Mas o Menos\", \"Mucho\", \"Poco\", \"Mas o Menos\"))\n",
    "\n",
    "Colores <- factor(c(\"Rojo\",  \"Verde\", \"Amarillo\", \"Rojo\", \"Amarillo\", \"Rojo\"))\n",
    "print(Sizes)\n",
    "\n",
    "print(Intensity)\n",
    "\n",
    "print(Colores)"
   ]
  },
  {
   "cell_type": "code",
   "execution_count": 15,
   "metadata": {},
   "outputs": [
    {
     "data": {
      "text/html": [
       "<dl class=dl-horizontal>\n",
       "\t<dt>S</dt>\n",
       "\t\t<dd>2</dd>\n",
       "\t<dt>M</dt>\n",
       "\t\t<dd>3</dd>\n",
       "\t<dt>L</dt>\n",
       "\t\t<dd>2</dd>\n",
       "\t<dt>XL</dt>\n",
       "\t\t<dd>2</dd>\n",
       "</dl>\n"
      ],
      "text/latex": [
       "\\begin{description*}\n",
       "\\item[S] 2\n",
       "\\item[M] 3\n",
       "\\item[L] 2\n",
       "\\item[XL] 2\n",
       "\\end{description*}\n"
      ],
      "text/markdown": [
       "S\n",
       ":   2M\n",
       ":   3L\n",
       ":   2XL\n",
       ":   2\n",
       "\n"
      ],
      "text/plain": [
       " S  M  L XL \n",
       " 2  3  2  2 "
      ]
     },
     "metadata": {},
     "output_type": "display_data"
    }
   ],
   "source": [
    "summary(Sizes)"
   ]
  },
  {
   "cell_type": "code",
   "execution_count": 17,
   "metadata": {},
   "outputs": [
    {
     "name": "stdout",
     "output_type": "stream",
     "text": [
      "[1] Poco        Mas o Menos Mucho       Poco        Mas o Menos\n",
      "Levels: Poco < Mas o Menos < Mucho\n"
     ]
    }
   ],
   "source": [
    "Intensity <- factor(c(\"Poco\", \"Mas o Menos\", \"Mucho\", \"Poco\", \"Mas o Menos\"),levels=c(\"Poco\",\"Mas o Menos\",\"Mucho\"), ordered=TRUE)\n",
    "\n",
    "print(Intensity)"
   ]
  },
  {
   "cell_type": "code",
   "execution_count": 22,
   "metadata": {},
   "outputs": [
    {
     "data": {
      "text/html": [
       "<ol class=list-inline>\n",
       "\t<li>'S'</li>\n",
       "\t<li>'M'</li>\n",
       "\t<li>'L'</li>\n",
       "\t<li>'XL'</li>\n",
       "</ol>\n"
      ],
      "text/latex": [
       "\\begin{enumerate*}\n",
       "\\item 'S'\n",
       "\\item 'M'\n",
       "\\item 'L'\n",
       "\\item 'XL'\n",
       "\\end{enumerate*}\n"
      ],
      "text/markdown": [
       "1. 'S'\n",
       "2. 'M'\n",
       "3. 'L'\n",
       "4. 'XL'\n",
       "\n",
       "\n"
      ],
      "text/plain": [
       "[1] \"S\"  \"M\"  \"L\"  \"XL\""
      ]
     },
     "metadata": {},
     "output_type": "display_data"
    },
    {
     "data": {
      "text/html": [
       "<ol class=list-inline>\n",
       "\t<li>'M'</li>\n",
       "\t<li>'L'</li>\n",
       "\t<li>'XL'</li>\n",
       "\t<li>'M'</li>\n",
       "\t<li>'L'</li>\n",
       "\t<li>'M'</li>\n",
       "\t<li>'XL'</li>\n",
       "</ol>\n"
      ],
      "text/latex": [
       "\\begin{enumerate*}\n",
       "\\item 'M'\n",
       "\\item 'L'\n",
       "\\item 'XL'\n",
       "\\item 'M'\n",
       "\\item 'L'\n",
       "\\item 'M'\n",
       "\\item 'XL'\n",
       "\\end{enumerate*}\n"
      ],
      "text/markdown": [
       "1. 'M'\n",
       "2. 'L'\n",
       "3. 'XL'\n",
       "4. 'M'\n",
       "5. 'L'\n",
       "6. 'M'\n",
       "7. 'XL'\n",
       "\n",
       "\n"
      ],
      "text/plain": [
       "[1] \"M\"  \"L\"  \"XL\" \"M\"  \"L\"  \"M\"  \"XL\""
      ]
     },
     "metadata": {},
     "output_type": "display_data"
    }
   ],
   "source": [
    "levels(Sizes)\n",
    "\n",
    "Datos <- as.vector(Sizes)"
   ]
  },
  {
   "cell_type": "markdown",
   "metadata": {},
   "source": [
    "# Data Frames"
   ]
  },
  {
   "cell_type": "code",
   "execution_count": 43,
   "metadata": {},
   "outputs": [
    {
     "name": "stdout",
     "output_type": "stream",
     "text": [
      "[1] 1 2 3 4\n",
      "[1] \"a\" \"b\" \"c\" \"d\"\n",
      "  a b\n",
      "1 1 a\n",
      "2 2 b\n",
      "3 3 c\n",
      "4 4 d\n"
     ]
    }
   ],
   "source": [
    "a <- c(1:4)\n",
    "b <- letters[1:4]\n",
    "print(a)\n",
    "print(b)\n",
    "\n",
    "DataFrame <- data.frame(a=1:4,b=letters[1:4])\n",
    "print(DataFrame)"
   ]
  },
  {
   "cell_type": "code",
   "execution_count": 44,
   "metadata": {},
   "outputs": [
    {
     "data": {
      "text/html": [
       "<table>\n",
       "<thead><tr><th scope=col>a</th><th scope=col>b</th></tr></thead>\n",
       "<tbody>\n",
       "\t<tr><td> 5</td><td>e </td></tr>\n",
       "\t<tr><td> 6</td><td>f </td></tr>\n",
       "\t<tr><td> 7</td><td>g </td></tr>\n",
       "\t<tr><td> 8</td><td>h </td></tr>\n",
       "\t<tr><td> 9</td><td>i </td></tr>\n",
       "\t<tr><td>10</td><td>j </td></tr>\n",
       "</tbody>\n",
       "</table>\n"
      ],
      "text/latex": [
       "\\begin{tabular}{r|ll}\n",
       " a & b\\\\\n",
       "\\hline\n",
       "\t  5 & e \\\\\n",
       "\t  6 & f \\\\\n",
       "\t  7 & g \\\\\n",
       "\t  8 & h \\\\\n",
       "\t  9 & i \\\\\n",
       "\t 10 & j \\\\\n",
       "\\end{tabular}\n"
      ],
      "text/markdown": [
       "\n",
       "a | b | \n",
       "|---|---|---|---|---|---|\n",
       "|  5 | e  | \n",
       "|  6 | f  | \n",
       "|  7 | g  | \n",
       "|  8 | h  | \n",
       "|  9 | i  | \n",
       "| 10 | j  | \n",
       "\n",
       "\n"
      ],
      "text/plain": [
       "  a  b\n",
       "1  5 e\n",
       "2  6 f\n",
       "3  7 g\n",
       "4  8 h\n",
       "5  9 i\n",
       "6 10 j"
      ]
     },
     "metadata": {},
     "output_type": "display_data"
    }
   ],
   "source": [
    "c <- c(5:10)\n",
    "d <- letters[5:10]\n",
    "DataFrame2 <- data.frame(a=5:10,b=letters[5:10])\n",
    "DataFrame2"
   ]
  },
  {
   "cell_type": "code",
   "execution_count": 45,
   "metadata": {},
   "outputs": [
    {
     "data": {
      "text/html": [
       "<table>\n",
       "<thead><tr><th scope=col>a</th><th scope=col>b</th></tr></thead>\n",
       "<tbody>\n",
       "\t<tr><td> 1</td><td>a </td></tr>\n",
       "\t<tr><td> 2</td><td>b </td></tr>\n",
       "\t<tr><td> 3</td><td>c </td></tr>\n",
       "\t<tr><td> 4</td><td>d </td></tr>\n",
       "\t<tr><td> 5</td><td>e </td></tr>\n",
       "\t<tr><td> 6</td><td>f </td></tr>\n",
       "\t<tr><td> 7</td><td>g </td></tr>\n",
       "\t<tr><td> 8</td><td>h </td></tr>\n",
       "\t<tr><td> 9</td><td>i </td></tr>\n",
       "\t<tr><td>10</td><td>j </td></tr>\n",
       "</tbody>\n",
       "</table>\n"
      ],
      "text/latex": [
       "\\begin{tabular}{r|ll}\n",
       " a & b\\\\\n",
       "\\hline\n",
       "\t  1 & a \\\\\n",
       "\t  2 & b \\\\\n",
       "\t  3 & c \\\\\n",
       "\t  4 & d \\\\\n",
       "\t  5 & e \\\\\n",
       "\t  6 & f \\\\\n",
       "\t  7 & g \\\\\n",
       "\t  8 & h \\\\\n",
       "\t  9 & i \\\\\n",
       "\t 10 & j \\\\\n",
       "\\end{tabular}\n"
      ],
      "text/markdown": [
       "\n",
       "a | b | \n",
       "|---|---|---|---|---|---|---|---|---|---|\n",
       "|  1 | a  | \n",
       "|  2 | b  | \n",
       "|  3 | c  | \n",
       "|  4 | d  | \n",
       "|  5 | e  | \n",
       "|  6 | f  | \n",
       "|  7 | g  | \n",
       "|  8 | h  | \n",
       "|  9 | i  | \n",
       "| 10 | j  | \n",
       "\n",
       "\n"
      ],
      "text/plain": [
       "   a  b\n",
       "1   1 a\n",
       "2   2 b\n",
       "3   3 c\n",
       "4   4 d\n",
       "5   5 e\n",
       "6   6 f\n",
       "7   7 g\n",
       "8   8 h\n",
       "9   9 i\n",
       "10 10 j"
      ]
     },
     "metadata": {},
     "output_type": "display_data"
    }
   ],
   "source": [
    "rbind(DataFrame,DataFrame2)"
   ]
  },
  {
   "cell_type": "code",
   "execution_count": 47,
   "metadata": {},
   "outputs": [
    {
     "data": {
      "text/html": [
       "<table>\n",
       "<thead><tr><th scope=col>a</th><th scope=col>b</th><th scope=col>c</th><th scope=col>d</th></tr></thead>\n",
       "<tbody>\n",
       "\t<tr><td>1</td><td>a</td><td>4</td><td>d</td></tr>\n",
       "\t<tr><td>2</td><td>b</td><td>5</td><td>e</td></tr>\n",
       "\t<tr><td>3</td><td>c</td><td>6</td><td>f</td></tr>\n",
       "\t<tr><td>4</td><td>d</td><td>7</td><td>g</td></tr>\n",
       "</tbody>\n",
       "</table>\n"
      ],
      "text/latex": [
       "\\begin{tabular}{r|llll}\n",
       " a & b & c & d\\\\\n",
       "\\hline\n",
       "\t 1 & a & 4 & d\\\\\n",
       "\t 2 & b & 5 & e\\\\\n",
       "\t 3 & c & 6 & f\\\\\n",
       "\t 4 & d & 7 & g\\\\\n",
       "\\end{tabular}\n"
      ],
      "text/markdown": [
       "\n",
       "a | b | c | d | \n",
       "|---|---|---|---|\n",
       "| 1 | a | 4 | d | \n",
       "| 2 | b | 5 | e | \n",
       "| 3 | c | 6 | f | \n",
       "| 4 | d | 7 | g | \n",
       "\n",
       "\n"
      ],
      "text/plain": [
       "  a b c d\n",
       "1 1 a 4 d\n",
       "2 2 b 5 e\n",
       "3 3 c 6 f\n",
       "4 4 d 7 g"
      ]
     },
     "metadata": {},
     "output_type": "display_data"
    }
   ],
   "source": [
    "c <- c(4:7)\n",
    "d <- letters[4:7]\n",
    "DataFrame4 <- data.frame(c,d)\n",
    "\n",
    "cbind(DataFrame,DataFrame4)"
   ]
  },
  {
   "cell_type": "code",
   "execution_count": 48,
   "metadata": {},
   "outputs": [
    {
     "data": {
      "text/plain": [
       "       a        b    \n",
       " Min.   :1.00   a:1  \n",
       " 1st Qu.:1.75   b:1  \n",
       " Median :2.50   c:1  \n",
       " Mean   :2.50   d:1  \n",
       " 3rd Qu.:3.25        \n",
       " Max.   :4.00        "
      ]
     },
     "metadata": {},
     "output_type": "display_data"
    }
   ],
   "source": [
    "summary(DataFrame)"
   ]
  },
  {
   "cell_type": "markdown",
   "metadata": {},
   "source": [
    "# Listas"
   ]
  },
  {
   "cell_type": "code",
   "execution_count": 56,
   "metadata": {},
   "outputs": [
    {
     "data": {
      "text/html": [
       "<ol class=list-inline>\n",
       "\t<li>100</li>\n",
       "\t<li>101</li>\n",
       "\t<li>102</li>\n",
       "\t<li>103</li>\n",
       "\t<li>104</li>\n",
       "\t<li>105</li>\n",
       "</ol>\n"
      ],
      "text/latex": [
       "\\begin{enumerate*}\n",
       "\\item 100\n",
       "\\item 101\n",
       "\\item 102\n",
       "\\item 103\n",
       "\\item 104\n",
       "\\item 105\n",
       "\\end{enumerate*}\n"
      ],
      "text/markdown": [
       "1. 100\n",
       "2. 101\n",
       "3. 102\n",
       "4. 103\n",
       "5. 104\n",
       "6. 105\n",
       "\n",
       "\n"
      ],
      "text/plain": [
       "[1] 100 101 102 103 104 105"
      ]
     },
     "metadata": {},
     "output_type": "display_data"
    },
    {
     "data": {
      "text/html": [
       "<ol class=list-inline>\n",
       "\t<li>M</li>\n",
       "\t<li>F</li>\n",
       "\t<li>M</li>\n",
       "\t<li>F</li>\n",
       "\t<li>F</li>\n",
       "\t<li>F</li>\n",
       "</ol>\n"
      ],
      "text/latex": [
       "\\begin{enumerate*}\n",
       "\\item M\n",
       "\\item F\n",
       "\\item M\n",
       "\\item F\n",
       "\\item F\n",
       "\\item F\n",
       "\\end{enumerate*}\n"
      ],
      "text/markdown": [
       "1. M\n",
       "2. F\n",
       "3. M\n",
       "4. F\n",
       "5. F\n",
       "6. F\n",
       "\n",
       "\n"
      ],
      "text/plain": [
       "[1] M F M F F F\n",
       "Levels: F M"
      ]
     },
     "metadata": {},
     "output_type": "display_data"
    }
   ],
   "source": [
    "elemento1 <- c(100:105)\n",
    "elemento2 <- letters[1:10]\n",
    "elemento3 <- c(\"Hola\", \"Mundo\", \"Como\", \"Estan\")\n",
    "elemento4 <- factor(c(\"M\",\"F\",\"M\",\"F\",\"F\",\"F\"))\n",
    "elemento5 <- data.frame(a=1:4,b=5:8)\n",
    "MiLista <- list(a1=elemento1,a2=elemento2, a3=elemento3,a4= elemento4,a5= elemento5)\n",
    "MiLista$a1\n",
    "MiLista[[4]]"
   ]
  },
  {
   "cell_type": "markdown",
   "metadata": {},
   "source": [
    "# NA"
   ]
  },
  {
   "cell_type": "code",
   "execution_count": 60,
   "metadata": {},
   "outputs": [
    {
     "data": {
      "text/plain": [
       "[1] NA"
      ]
     },
     "metadata": {},
     "output_type": "display_data"
    },
    {
     "data": {
      "text/plain": [
       "[1] NA"
      ]
     },
     "metadata": {},
     "output_type": "display_data"
    },
    {
     "data": {
      "text/plain": [
       "[1] NA"
      ]
     },
     "metadata": {},
     "output_type": "display_data"
    },
    {
     "data": {
      "text/plain": [
       "[1] NA"
      ]
     },
     "metadata": {},
     "output_type": "display_data"
    }
   ],
   "source": [
    "NA +5\n",
    "NA-5\n",
    "NA*0\n",
    "NA/0"
   ]
  },
  {
   "cell_type": "code",
   "execution_count": 62,
   "metadata": {},
   "outputs": [
    {
     "data": {
      "text/plain": [
       "[1] NA"
      ]
     },
     "metadata": {},
     "output_type": "display_data"
    },
    {
     "data": {
      "text/plain": [
       "[1] NA"
      ]
     },
     "metadata": {},
     "output_type": "display_data"
    }
   ],
   "source": [
    "NA == NA\n",
    "NA != NA"
   ]
  },
  {
   "cell_type": "code",
   "execution_count": 64,
   "metadata": {},
   "outputs": [
    {
     "name": "stdout",
     "output_type": "stream",
     "text": [
      "[1] 2\n"
     ]
    },
    {
     "data": {
      "text/html": [
       "FALSE"
      ],
      "text/latex": [
       "FALSE"
      ],
      "text/markdown": [
       "FALSE"
      ],
      "text/plain": [
       "[1] FALSE"
      ]
     },
     "metadata": {},
     "output_type": "display_data"
    }
   ],
   "source": [
    "x <- sample(c(NA,1:3),1)\n",
    "\n",
    "print(x)\n",
    "is.na(x)"
   ]
  },
  {
   "cell_type": "code",
   "execution_count": 67,
   "metadata": {},
   "outputs": [
    {
     "data": {
      "text/html": [
       "21"
      ],
      "text/latex": [
       "21"
      ],
      "text/markdown": [
       "21"
      ],
      "text/plain": [
       "[1] 21"
      ]
     },
     "metadata": {},
     "output_type": "display_data"
    }
   ],
   "source": [
    "v <- c(1:3,NA,4:6)\n",
    "\n",
    "sum(v, na.rm =TRUE)"
   ]
  },
  {
   "cell_type": "markdown",
   "metadata": {},
   "source": [
    "# Ejercicios\n",
    "\n",
    "## Subirlo a  su GitHub\n",
    "\n",
    "### Todas las preguntas están o bien en el PDF del laboratorio o pueden buscar en internet, sobre todo las teóricas."
   ]
  }
 ],
 "metadata": {
  "kernelspec": {
   "display_name": "R",
   "language": "R",
   "name": "ir"
  },
  "language_info": {
   "codemirror_mode": "r",
   "file_extension": ".r",
   "mimetype": "text/x-r-source",
   "name": "R",
   "pygments_lexer": "r",
   "version": "3.4.1"
  }
 },
 "nbformat": 4,
 "nbformat_minor": 2
}
