{
 "cells": [
  {
   "cell_type": "markdown",
   "metadata": {},
   "source": [
    "# Laboratorio 4"
   ]
  },
  {
   "cell_type": "markdown",
   "metadata": {},
   "source": [
    "## Problema 1\n",
    "\n",
    "La *Conjetura de Collatz* señala que para todo número natural $n$, si se realiza la siguiente recursión:\n",
    "$$ f(n) = \\left\\{ \\begin{array}{cc} 3n+1 &n = 2k+1 \\\\ \\frac{n}{2} &n=2k \\end{array} \\right. $$\n",
    "Siempre se llegará a 1 luego de cierta cantidad de iteraciones. Para hallar la cantidad de pasos de un número se usa la siguiente iteración:"
   ]
  },
  {
   "cell_type": "code",
   "execution_count": 7,
   "metadata": {},
   "outputs": [
    {
     "name": "stdout",
     "output_type": "stream",
     "text": [
      "[1] 26\n"
     ]
    }
   ],
   "source": [
    "n <- 100\n",
    "pasos <- 1\n",
    "while(n!=1){\n",
    "    if(n %% 2 == 0){\n",
    "        n <- n/2\n",
    "    } else {\n",
    "        n <- 3*n + 1\n",
    "    }\n",
    "    pasos <- pasos + 1\n",
    "}\n",
    "print(pasos)"
   ]
  },
  {
   "cell_type": "markdown",
   "metadata": {},
   "source": [
    "Diseñe un programa que halle la secuencia de menor longitud de entre los números en el rango $[100,200]$ y además determine cuál es esa secuencia."
   ]
  },
  {
   "cell_type": "markdown",
   "metadata": {},
   "source": [
    "## Solución\n",
    "\n",
    "Basta con una iteración en rango y guardar las respuestas en una variable, la solución tiene un paradigma de fuerza bruta aunque se puede optimizar para que sea bastante amortiguado."
   ]
  },
  {
   "cell_type": "code",
   "execution_count": 19,
   "metadata": {},
   "outputs": [
    {
     "data": {
      "text/html": [
       "'El numero con menor longitud de secuencia es 128:'"
      ],
      "text/latex": [
       "'El numero con menor longitud de secuencia es 128:'"
      ],
      "text/markdown": [
       "'El numero con menor longitud de secuencia es 128:'"
      ],
      "text/plain": [
       "[1] \"El numero con menor longitud de secuencia es 128:\""
      ]
     },
     "metadata": {},
     "output_type": "display_data"
    },
    {
     "name": "stdout",
     "output_type": "stream",
     "text": [
      "[1] \"Secuencia:\"\n",
      "[1] 128\n",
      "[1] 64\n",
      "[1] 32\n",
      "[1] 16\n",
      "[1] 8\n",
      "[1] 4\n",
      "[1] 2\n"
     ]
    }
   ],
   "source": [
    "numero <- -1\n",
    "longitud <- 1000000000000000\n",
    "for(i in 100:200){\n",
    "    carry <- i\n",
    "    len <- 1\n",
    "    while(carry!=1){\n",
    "        if(carry %% 2 == 0){\n",
    "            carry <- carry/2\n",
    "        } else {\n",
    "            carry <- 3*carry + 1\n",
    "        }\n",
    "        len <- len + 1\n",
    "    }\n",
    "    if(len < longitud){\n",
    "        numero <- i\n",
    "        longitud <- len\n",
    "    }\n",
    "}\n",
    "sprintf(\"El numero con menor longitud de secuencia es %d:\",numero)\n",
    "print(\"Secuencia:\")\n",
    "while(numero!=1){\n",
    "    print(numero)\n",
    "    if(numero %%2 == 0){\n",
    "        numero <- numero/2\n",
    "    } else {\n",
    "        numero <- 3*numero + 1\n",
    "    }\n",
    "}"
   ]
  },
  {
   "cell_type": "markdown",
   "metadata": {},
   "source": [
    "## Problema 2\n",
    "Anta estaba estudiando teoría de números y aprendió el algoritmo de Euclides, pero en la clase estaba tan concentrado que no llegó a apuntar correctamente el algoritmo dado por su profesor. A pesar de todo, él recuerda exactamente todas las líneas, pero no el orden correcto. Dadas las siguientes líneas de código, reconstruya el algoritmo de Euclides iterativo y use $a = 10^5+3$ y $b=10^8+9$:"
   ]
  },
  {
   "cell_type": "code",
   "execution_count": 11,
   "metadata": {},
   "outputs": [
    {
     "name": "stdout",
     "output_type": "stream",
     "text": [
      "[1] 0\n"
     ]
    }
   ],
   "source": [
    "a <- 1001\n",
    "b <- 7\n",
    "while(b!=0){\n",
    "    b <- carry\n",
    "    a <- b\n",
    "    carry <- a %% b\n",
    "}\n",
    "print(a)"
   ]
  },
  {
   "cell_type": "markdown",
   "metadata": {},
   "source": [
    "## Solución\n",
    "\n",
    "El algoritmo de Euclides garantiza que $gcd(a,b) = gcd(b,a \\%b )$, por lo que se da esta iteración hasta que $a\\%b = 0$, considerando esto, el código sería el siguiente:"
   ]
  },
  {
   "cell_type": "code",
   "execution_count": 22,
   "metadata": {},
   "outputs": [
    {
     "name": "stdout",
     "output_type": "stream",
     "text": [
      "[1] 1\n"
     ]
    }
   ],
   "source": [
    "a <- 100000+3\n",
    "b <- 100000000+9\n",
    "while(b!=0){\n",
    "    carry <- a%%b\n",
    "    a <- b\n",
    "    b <- carry\n",
    "}\n",
    "print(a)"
   ]
  },
  {
   "cell_type": "markdown",
   "metadata": {},
   "source": [
    "## Problema 3\n",
    "\n",
    "Usando la función `sample` obtenga un muestreo de 10 números en el rango $[1,1000]$ (CON reemplazo) y determine la relación entre la cantidad de primos encontrados y el tamaño de la muestra. Según la teoría de primos, una cota superior para la cantidad de primos menores o iguales a $n$ es $\\frac{n}{ln(n)}$, analice cuán preciso es esto con este caso y un muestreo de 20 números en el rango de $[1,2000]$"
   ]
  },
  {
   "cell_type": "markdown",
   "metadata": {},
   "source": [
    "## Solución\n",
    "\n",
    "Para saber si un número es primo, nos basta iterar hasta la raiz cuadrada del número y verificar si es que algun valor en ese rango es divisor del número evaluado, por lo que el código es sencillo de realizar. Además de ello, consideremos para el primer caso con 10 muestreos con reemplazo y rango $[1,1000]$, entonces por cada muestreo se tendría una probabilidad de:\n",
    "$$ P(M) = \\frac{\\frac{1000}{log(1000)}}{1000} = \\frac{1}{log(1000)} $$\n",
    "Para 10 muestreos la relación estimada sería:\n",
    "$$ P = \\left(\\frac{1}{log(1000)}\\right)^{10} $$"
   ]
  },
  {
   "cell_type": "code",
   "execution_count": 32,
   "metadata": {},
   "outputs": [
    {
     "data": {
      "text/html": [
       "'La relación es 0.000000000000\n",
       "'"
      ],
      "text/latex": [
       "'La relación es 0.000000000000\n",
       "'"
      ],
      "text/markdown": [
       "'La relación es 0.000000000000\n",
       "'"
      ],
      "text/plain": [
       "[1] \"La relación es 0.000000000000\\n\""
      ]
     },
     "metadata": {},
     "output_type": "display_data"
    },
    {
     "data": {
      "text/html": [
       "'La cota superior es 0.000000004042\n",
       "'"
      ],
      "text/latex": [
       "'La cota superior es 0.000000004042\n",
       "'"
      ],
      "text/markdown": [
       "'La cota superior es 0.000000004042\n",
       "'"
      ],
      "text/plain": [
       "[1] \"La cota superior es 0.000000004042\\n\""
      ]
     },
     "metadata": {},
     "output_type": "display_data"
    }
   ],
   "source": [
    "muestra <- sample(c(1:1000),10,replace=T)\n",
    "a_favor <- 0\n",
    "for(i in muestra){\n",
    "    primo <- T\n",
    "    iterador <- 2\n",
    "    while(iterador*iterador <= i && primo){\n",
    "        if(i %% iterador == 0) primo = F\n",
    "        iterador <- iterador+1\n",
    "    }\n",
    "    if(primo) a_favor <- a_favor + 1\n",
    "}\n",
    "sprintf(\"La relación es %.12f\\n\",a_favor/100)\n",
    "ans <- 1/log(1000)\n",
    "sprintf(\"La cota superior es %.12f\\n\",ans^10)"
   ]
  }
 ],
 "metadata": {
  "kernelspec": {
   "display_name": "R",
   "language": "R",
   "name": "ir"
  },
  "language_info": {
   "codemirror_mode": "r",
   "file_extension": ".r",
   "mimetype": "text/x-r-source",
   "name": "R",
   "pygments_lexer": "r",
   "version": "3.4.1"
  }
 },
 "nbformat": 4,
 "nbformat_minor": 2
}
