{
 "cells": [
  {
   "cell_type": "markdown",
   "metadata": {},
   "source": [
    "# Laboratorio 5: Problemas"
   ]
  },
  {
   "cell_type": "markdown",
   "metadata": {},
   "source": [
    "## Problema 1\n",
    "\n",
    "Dado un arreglo aleatorio de enteros (debe crearlo con `sample`) hallar el subarreglo con máxima suma posible de este y encontrar su subsecuencia creciente más larga y además la cantidad de secuencias diferentes que puede generar módulo $10^{9}+7$. Tome como referencia el siguiente arreglo:\n",
    "\n",
    "$$ A = \\{95 ,-43, -59, 10, -80, 20, -92, 75, 61, -50\\} $$\n",
    "\n",
    "Cuyo subarreglo con máxima suma posible es:\n",
    "\n",
    "$$ S = \\{75,61\\} $$\n",
    "\n",
    "Y tiene como subsecuencia creciente más larga cualquiera de las dos siguientes:\n",
    "\n",
    "$$ LIS_{1} = \\{75\\} \\quad LIS_{2} = \\{61\\} $$\n",
    "\n",
    "Y este además tiene las siguientes subsecuencias diferentes:\n",
    "\n",
    "$$ S_{1} = \\phi \\quad S_{2} = \\{75\\} \\quad S_{3} = \\{61\\} \\quad S_{4} = \\{75,61\\} $$\n",
    "\n",
    "Para su prueba suba a su repositorio un archivo `in.txt` con el siguiente formato:\n",
    "\n",
    "```python3\n",
    "n <- Tamaño de la prueba\n",
    "a1 a2 a3 ... an <- Elementos del arreglo\n",
    "```\n",
    "\n",
    "Además un archivo `o.txt` con el siguiente formato:\n",
    "\n",
    "```python3\n",
    "k <- Tamaño del subarreglo con suma máxima\n",
    "b1 b2 b3 b4 .... bk <- Elementos del subarreglo con suma máxima\n",
    "LIS <- Tamaño de la subsecuencia creciente más larga del subarreglo B\n",
    "lis1 lis2 .... lisLIS <- Elementos de la subsecuencia creciente más larga\n",
    "QDIS <- Cantidad de subsecuencias diferentes que puede generar el subarreglo B\n",
    "```\n",
    "\n",
    "De acuerdo al formato, el ejemplo tendría lo siguiente:\n",
    "```python3\n",
    "2\n",
    "75 61\n",
    "1\n",
    "71\n",
    "4\n",
    "```"
   ]
  },
  {
   "cell_type": "markdown",
   "metadata": {},
   "source": [
    "##  Problema 2\n",
    "\n",
    "Asuma que tiene un diccionario de palabras de máxima longitud 6 y además compuestas solamente por letras minúsculas de la a a la j. Determine la letra que se repita más veces dentro de este conjunto.\n",
    "\n",
    "Tome como referencia la siguiente función, la cual devuelve el valor ASCII de un caracter.\n",
    "\n",
    "```R\n",
    "asc <- function(x) { strtoi(charToRaw(x),16L) }\n",
    "```\n",
    "\n",
    "Además para leer el archivo `input_p2.txt` se usa el siguiente comando:\n",
    "```R\n",
    "X <- read.table(\"input_p2.txt\",sep=\" \")\n",
    "X <- X[!is.na(X)]\n",
    "```\n",
    "Descárguelo del siguiente link: [Input](https://github.com/racsosabe/Estadistica-2017-II/blob/master/input_p2.txt)"
   ]
  },
  {
   "cell_type": "markdown",
   "metadata": {},
   "source": [
    "## Problema 3\n",
    "\n",
    "Halle el $n$-ésimo término de Fibonacci usando matrices. Pruebe para $n = 25$"
   ]
  },
  {
   "cell_type": "markdown",
   "metadata": {
    "collapsed": true
   },
   "source": [
    "## Problema 4\n",
    "\n",
    "Suponga que la matriz de adyacencia de un grafo es la siguiente:\n",
    "\n",
    "$$ Adj = \\begin{pmatrix} 0 &1 &1 &0 \\\\ 1 &0 &0 &0 \\\\ 1&1 &0 &0 \\\\ 0 &0 &1 &0 \\end{pmatrix} $$\n",
    "\n",
    "Si quisieramos tener la cantidad de caminos de dos a dos nodos de longitud $k$ en otra matriz $M$, determine de qué nodo $u$ a qué nodo $v$ se puede obtener la mayor cantidad de estos caminos.\n",
    "\n",
    "Pruebe para $k=10$."
   ]
  }
 ],
 "metadata": {
  "kernelspec": {
   "display_name": "R",
   "language": "R",
   "name": "ir"
  },
  "language_info": {
   "codemirror_mode": "r",
   "file_extension": ".r",
   "mimetype": "text/x-r-source",
   "name": "R",
   "pygments_lexer": "r",
   "version": "3.3.2"
  }
 },
 "nbformat": 4,
 "nbformat_minor": 2
}
