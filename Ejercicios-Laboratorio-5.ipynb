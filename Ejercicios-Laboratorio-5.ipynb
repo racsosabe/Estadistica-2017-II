{
 "cells": [
  {
   "cell_type": "markdown",
   "metadata": {},
   "source": [
    "# Laboratorio 5: Problemas"
   ]
  },
  {
   "cell_type": "markdown",
   "metadata": {},
   "source": [
    "## Problema 1\n",
    "\n",
    "Dado un arreglo aleatorio de enteros (debe crearlo con `sample`) hallar el subarreglo con máxima suma posible de este y encontrar su subsecuencia creciente más larga y además la cantidad de secuencias diferentes que puede generar módulo $10^{9}+7$. Tome como referencia el siguiente arreglo:\n",
    "\n",
    "$$ A = \\{95 ,-43, -59, 10, -80, 20, -92, 75, 61, -50\\} $$\n",
    "\n",
    "Cuyo subarreglo con máxima suma posible es:\n",
    "\n",
    "$$ S = \\{75,61\\} $$\n",
    "\n",
    "Y tiene como subsecuencia creciente más larga cualquiera de las dos siguientes:\n",
    "\n",
    "$$ LIS_{1} = \\{75\\} \\quad LIS_{2} = \\{61\\} $$\n",
    "\n",
    "Y este además tiene las siguientes subsecuencias diferentes:\n",
    "\n",
    "$$ S_{1} = \\phi \\quad S_{2} = \\{75\\} \\quad S_{3} = \\{61\\} \\quad S_{4} = \\{75,61\\} $$\n",
    "\n",
    "Para su prueba suba a su repositorio un archivo `in.txt` con el siguiente formato:\n",
    "\n",
    "```python3\n",
    "n <- Tamaño de la prueba\n",
    "a1 a2 a3 ... an <- Elementos del arreglo\n",
    "```\n",
    "\n",
    "Además un archivo `o.txt` con el siguiente formato:\n",
    "\n",
    "```python3\n",
    "k <- Tamaño del subarreglo con suma máxima\n",
    "b1 b2 b3 b4 .... bk <- Elementos del subarreglo con suma máxima\n",
    "LIS <- Tamaño de la subsecuencia creciente más larga del subarreglo B\n",
    "lis1 lis2 .... lisLIS <- Elementos de la subsecuencia creciente más larga\n",
    "QDIS <- Cantidad de subsecuencias diferentes que puede generar el subarreglo B\n",
    "```\n",
    "\n",
    "De acuerdo al formato, el ejemplo tendría lo siguiente:\n",
    "```python3\n",
    "2\n",
    "75 61\n",
    "1\n",
    "71\n",
    "4\n",
    "```"
   ]
  },
  {
   "cell_type": "markdown",
   "metadata": {},
   "source": [
    "## Solución\n",
    "\n",
    "\n"
   ]
  },
  {
   "cell_type": "code",
   "execution_count": 25,
   "metadata": {},
   "outputs": [
    {
     "data": {
      "text/html": [
       "75"
      ],
      "text/latex": [
       "75"
      ],
      "text/markdown": [
       "75"
      ],
      "text/plain": [
       "[1] 75"
      ]
     },
     "metadata": {},
     "output_type": "display_data"
    },
    {
     "data": {
      "text/html": [
       "95"
      ],
      "text/latex": [
       "95"
      ],
      "text/markdown": [
       "95"
      ],
      "text/plain": [
       "[1] 95"
      ]
     },
     "metadata": {},
     "output_type": "display_data"
    },
    {
     "data": {
      "text/html": [
       "4"
      ],
      "text/latex": [
       "4"
      ],
      "text/markdown": [
       "4"
      ],
      "text/plain": [
       "[1] 4"
      ]
     },
     "metadata": {},
     "output_type": "display_data"
    }
   ],
   "source": [
    "v <- c(95,-43,-59,10,-80,20,-92,75,61,-50)\n",
    "\n",
    "S <- v\n",
    "\n",
    "S <- cumsum(S)\n",
    "\n",
    "l <- -1\n",
    "r <- -1\n",
    "maximo <- -10000000\n",
    "for (i in 1:length(v)){ # i <= j\n",
    "    for (j in i:length(v)){\n",
    "        suma <- S[j]\n",
    "        if(i > 1) suma <- suma - S[i-1]\n",
    "        if(maximo < suma){\n",
    "            l <- i\n",
    "            r <- j\n",
    "            maximo <- suma\n",
    "        }\n",
    "    }\n",
    "}\n",
    "Subarray <- v[l:r]\n",
    "LIS <- replicate(length(Subarray),0)\n",
    "padres <- replicate(length(Subarray),0)\n",
    "LIS[1] = 1\n",
    "padres[1] = -1\n",
    "maxlen = 1\n",
    "start = 1\n",
    "for(i in 2:length(Subarray)){\n",
    "    LIS[i] = 1\n",
    "    padres[i] = -1\n",
    "    for(j in 1:(i-1)){\n",
    "        if(v[j] < v[i] && LIS[j]+1 > LIS[i]){\n",
    "            padres[i] = j\n",
    "            LIS[i] = LIS[j]+1\n",
    "        }\n",
    "    }\n",
    "    if(maxlen < LIS[i]){\n",
    "        start = i\n",
    "        maxlen = LIS[i]\n",
    "    }\n",
    "}\n",
    "SCML <- NULL\n",
    "while(start!=-1){\n",
    "    SCML <- c(Subarray[start],SCML)\n",
    "    start <- padres[start]\n",
    "}\n",
    "SCML\n",
    "    \n",
    "DSUB <- replicate(length(Subarray)+2,0)\n",
    "MaxAbs <- max(abs(max(v)),abs(min(v)))\n",
    "MaxAbs\n",
    "    \n",
    "last <- replicate(2*MaxAbs+2,-1)\n",
    "    \n",
    "DSUB[1] <- 1\n",
    "\n",
    "for(i in 2:(length(Subarray)+1)){\n",
    "    DSUB[i] = (2*DSUB[i-1])\n",
    "    if(last[Subarray[i-1]+MaxAbs+1]!=-1){\n",
    "        DSUB[i] = DSUB[i] - DSUB[last[Subarray[i-1]+MaxAbs+1]]\n",
    "    }\n",
    "    last[Subarray[i-1]+MaxAbs+1] = i-1\n",
    "}\n",
    "DSUB[(length(Subarray)+1)]"
   ]
  },
  {
   "cell_type": "markdown",
   "metadata": {},
   "source": [
    "##  Problema 2\n",
    "\n",
    "Asuma que tiene un diccionario de palabras de máxima longitud 6 y además compuestas solamente por letras minúsculas de la a a la j. Determine la letra que se repita más veces dentro de este conjunto.\n",
    "\n",
    "Tome como referencia la siguiente función, la cual devuelve el valor ASCII de un caracter.\n",
    "\n",
    "```R\n",
    "asc <- function(x) { strtoi(charToRaw(x),16L) }\n",
    "```\n",
    "\n",
    "Además para leer el archivo `input_p2.txt` se usa el siguiente comando:\n",
    "```R\n",
    "X <- read.table(\"input_p2.txt\",sep=\" \")\n",
    "X <- X[!is.na(X)]\n",
    "```\n",
    "Descárguelo del siguiente link: [Input](https://github.com/racsosabe/Estadistica-2017-II/blob/master/input_p2.txt)"
   ]
  },
  {
   "cell_type": "markdown",
   "metadata": {},
   "source": [
    "## Solucion\n",
    "\n"
   ]
  },
  {
   "cell_type": "code",
   "execution_count": 26,
   "metadata": {},
   "outputs": [
    {
     "name": "stdout",
     "output_type": "stream",
     "text": [
      "[1] \"i\"\n"
     ]
    }
   ],
   "source": [
    "asc <- function(x) { strtoi(charToRaw(x),16L) }\n",
    "X <- read.table(\"input_p2.txt\",sep=\" \")\n",
    "X <- X[!is.na(X)]\n",
    "contador <- replicate(11,0)\n",
    "\n",
    "for (word in X){\n",
    "    h <- NULL\n",
    "    for (j in 1:length(word)){\n",
    "        hash <- asc(word[j])-asc('a')+1\n",
    "        h <- c(h,hash)\n",
    "    }\n",
    "    contador[h] <- contador[h]+1\n",
    "}\n",
    "\n",
    "# a <- 1\n",
    "# b <- 2\n",
    "# c <- 3\n",
    "# .\n",
    "# .\n",
    "# .\n",
    "\n",
    "letras_en_minuscula <- letters\n",
    "\n",
    "posicion <- which.max(contador)\n",
    "\n",
    "print(letras_en_minuscula[posicion])"
   ]
  },
  {
   "cell_type": "markdown",
   "metadata": {},
   "source": [
    "## Problema 3\n",
    "\n",
    "Halle el $n$-ésimo término de Fibonacci usando matrices. Pruebe para $n = 25$"
   ]
  },
  {
   "cell_type": "markdown",
   "metadata": {},
   "source": [
    "## Solucion\n",
    "\n",
    "\n",
    "$$ F_{i} = F_{i-1} + F_{i-2} $$\n",
    "$$ F_{i-1} = F_{i-1} + 0F_{i-2} $$\n",
    "\n",
    "$$ \\begin{pmatrix} F_{i} \\\\ F_{i-1} \\end{pmatrix} = \\begin{pmatrix} 1 &1 \\\\ 1 &0 \\end{pmatrix}\\begin{pmatrix}F_{i-1} \\\\ F_{i-2} \\end{pmatrix} $$\n",
    "\n",
    "$$ F_{0} = 1 $$\n",
    "$$ F_{1} = 1 $$\n",
    "\n",
    "$$ \\begin{pmatrix} F_{n+1} \\\\ F_{n} \\end{pmatrix} = \\left(\\begin{pmatrix} 1 &1 \\\\ 1 &0 \\end{pmatrix}\\right)^{n}\\begin{pmatrix}F_{1} \\\\ F_{0} \\end{pmatrix} $$"
   ]
  },
  {
   "cell_type": "code",
   "execution_count": 17,
   "metadata": {},
   "outputs": [
    {
     "name": "stdout",
     "output_type": "stream",
     "text": [
      "[1] 55\n"
     ]
    }
   ],
   "source": [
    "# 1, 1, 2, 3, 5, 8, 13, 21, 34, 55\n",
    "\n",
    "n <- 8\n",
    "coeficientes <- c(1,1,1,0)\n",
    "\n",
    "M <- matrix(coeficientes,nrow=2,byrow=T)\n",
    "\n",
    "N <- M\n",
    "\n",
    "F0 <- c(1,0)\n",
    "\n",
    "while(n > 0){\n",
    "    M <- M %*% N\n",
    "    n <- n-1\n",
    "}\n",
    "F0 <- M %*% F0\n",
    "print(F0[1])"
   ]
  },
  {
   "cell_type": "markdown",
   "metadata": {
    "collapsed": true
   },
   "source": [
    "## Problema 4\n",
    "\n",
    "Suponga que la matriz de adyacencia de un grafo es la siguiente:\n",
    "\n",
    "$$ Adj = \\begin{pmatrix} 0 &1 &1 &0 \\\\ 1 &0 &0 &0 \\\\ 1&1 &0 &0 \\\\ 0 &0 &1 &0 \\end{pmatrix} $$\n",
    "\n",
    "Si quisieramos tener la cantidad de caminos de dos a dos nodos de longitud $k$ en otra matriz $M$, determine de qué nodo $u$ a qué nodo $v$ se puede obtener la mayor cantidad de estos caminos.\n",
    "\n",
    "Pruebe para $k=10$."
   ]
  },
  {
   "cell_type": "markdown",
   "metadata": {},
   "source": [
    "## Solucion"
   ]
  },
  {
   "cell_type": "code",
   "execution_count": 5,
   "metadata": {},
   "outputs": [
    {
     "data": {
      "text/html": [
       "1"
      ],
      "text/latex": [
       "1"
      ],
      "text/markdown": [
       "1"
      ],
      "text/plain": [
       "[1] 1"
      ]
     },
     "metadata": {},
     "output_type": "display_data"
    }
   ],
   "source": [
    "data <- c(0,1,1,0,1,0,0,0,1,1,0,0,0,0,1,0)\n",
    "\n",
    "Adj <- matrix(data,nrow=4,byrow=T)\n",
    "\n",
    "k <- 10\n",
    "\n",
    "Caminos <- diag(4)\n",
    "\n",
    "while(k > 0){\n",
    "    Caminos <- Caminos %*% Adj\n",
    "    k <- k-1\n",
    "}\n",
    "\n",
    "which.max(Caminos)\n"
   ]
  }
 ],
 "metadata": {
  "kernelspec": {
   "display_name": "R",
   "language": "R",
   "name": "ir"
  },
  "language_info": {
   "codemirror_mode": "r",
   "file_extension": ".r",
   "mimetype": "text/x-r-source",
   "name": "R",
   "pygments_lexer": "r",
   "version": "3.4.1"
  }
 },
 "nbformat": 4,
 "nbformat_minor": 2
}
