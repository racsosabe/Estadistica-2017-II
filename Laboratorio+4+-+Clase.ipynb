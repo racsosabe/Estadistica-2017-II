{
 "cells": [
  {
   "cell_type": "markdown",
   "metadata": {},
   "source": [
    "# Laboratorio 4"
   ]
  },
  {
   "cell_type": "code",
   "execution_count": 21,
   "metadata": {},
   "outputs": [
    {
     "data": {
      "text/plain": [
       "{{}, {\"A\"}, {\"B\"}, {\"C\"}, {\"A\", \"B\"}, {\"A\", \"C\"}, {\"B\", \"C\"}, {\"A\",\n",
       " \"B\", \"C\"}}"
      ]
     },
     "metadata": {},
     "output_type": "display_data"
    }
   ],
   "source": [
    "library(sets)\n",
    "Tres_eventos = set(\"A\",\"B\",\"C\")\n",
    "2^Tres_eventos"
   ]
  },
  {
   "cell_type": "code",
   "execution_count": 24,
   "metadata": {},
   "outputs": [
    {
     "data": {
      "text/html": [
       "<table>\n",
       "<thead><tr><th scope=col>S1</th><th scope=col>S2</th><th scope=col>S3</th></tr></thead>\n",
       "<tbody>\n",
       "\t<tr><td>1</td><td>3</td><td>1</td></tr>\n",
       "\t<tr><td>2</td><td>3</td><td>1</td></tr>\n",
       "\t<tr><td>3</td><td>3</td><td>1</td></tr>\n",
       "\t<tr><td>4</td><td>3</td><td>1</td></tr>\n",
       "\t<tr><td>1</td><td>4</td><td>1</td></tr>\n",
       "\t<tr><td>2</td><td>4</td><td>1</td></tr>\n",
       "\t<tr><td>3</td><td>4</td><td>1</td></tr>\n",
       "\t<tr><td>4</td><td>4</td><td>1</td></tr>\n",
       "\t<tr><td>1</td><td>5</td><td>1</td></tr>\n",
       "\t<tr><td>2</td><td>5</td><td>1</td></tr>\n",
       "\t<tr><td>3</td><td>5</td><td>1</td></tr>\n",
       "\t<tr><td>4</td><td>5</td><td>1</td></tr>\n",
       "\t<tr><td>1</td><td>3</td><td>2</td></tr>\n",
       "\t<tr><td>2</td><td>3</td><td>2</td></tr>\n",
       "\t<tr><td>3</td><td>3</td><td>2</td></tr>\n",
       "\t<tr><td>4</td><td>3</td><td>2</td></tr>\n",
       "\t<tr><td>1</td><td>4</td><td>2</td></tr>\n",
       "\t<tr><td>2</td><td>4</td><td>2</td></tr>\n",
       "\t<tr><td>3</td><td>4</td><td>2</td></tr>\n",
       "\t<tr><td>4</td><td>4</td><td>2</td></tr>\n",
       "\t<tr><td>1</td><td>5</td><td>2</td></tr>\n",
       "\t<tr><td>2</td><td>5</td><td>2</td></tr>\n",
       "\t<tr><td>3</td><td>5</td><td>2</td></tr>\n",
       "\t<tr><td>4</td><td>5</td><td>2</td></tr>\n",
       "</tbody>\n",
       "</table>\n"
      ],
      "text/latex": [
       "\\begin{tabular}{r|lll}\n",
       " S1 & S2 & S3\\\\\n",
       "\\hline\n",
       "\t 1 & 3 & 1\\\\\n",
       "\t 2 & 3 & 1\\\\\n",
       "\t 3 & 3 & 1\\\\\n",
       "\t 4 & 3 & 1\\\\\n",
       "\t 1 & 4 & 1\\\\\n",
       "\t 2 & 4 & 1\\\\\n",
       "\t 3 & 4 & 1\\\\\n",
       "\t 4 & 4 & 1\\\\\n",
       "\t 1 & 5 & 1\\\\\n",
       "\t 2 & 5 & 1\\\\\n",
       "\t 3 & 5 & 1\\\\\n",
       "\t 4 & 5 & 1\\\\\n",
       "\t 1 & 3 & 2\\\\\n",
       "\t 2 & 3 & 2\\\\\n",
       "\t 3 & 3 & 2\\\\\n",
       "\t 4 & 3 & 2\\\\\n",
       "\t 1 & 4 & 2\\\\\n",
       "\t 2 & 4 & 2\\\\\n",
       "\t 3 & 4 & 2\\\\\n",
       "\t 4 & 4 & 2\\\\\n",
       "\t 1 & 5 & 2\\\\\n",
       "\t 2 & 5 & 2\\\\\n",
       "\t 3 & 5 & 2\\\\\n",
       "\t 4 & 5 & 2\\\\\n",
       "\\end{tabular}\n"
      ],
      "text/markdown": [
       "\n",
       "S1 | S2 | S3 | \n",
       "|---|---|---|---|---|---|---|---|---|---|---|---|---|---|---|---|---|---|---|---|---|---|---|---|\n",
       "| 1 | 3 | 1 | \n",
       "| 2 | 3 | 1 | \n",
       "| 3 | 3 | 1 | \n",
       "| 4 | 3 | 1 | \n",
       "| 1 | 4 | 1 | \n",
       "| 2 | 4 | 1 | \n",
       "| 3 | 4 | 1 | \n",
       "| 4 | 4 | 1 | \n",
       "| 1 | 5 | 1 | \n",
       "| 2 | 5 | 1 | \n",
       "| 3 | 5 | 1 | \n",
       "| 4 | 5 | 1 | \n",
       "| 1 | 3 | 2 | \n",
       "| 2 | 3 | 2 | \n",
       "| 3 | 3 | 2 | \n",
       "| 4 | 3 | 2 | \n",
       "| 1 | 4 | 2 | \n",
       "| 2 | 4 | 2 | \n",
       "| 3 | 4 | 2 | \n",
       "| 4 | 4 | 2 | \n",
       "| 1 | 5 | 2 | \n",
       "| 2 | 5 | 2 | \n",
       "| 3 | 5 | 2 | \n",
       "| 4 | 5 | 2 | \n",
       "\n",
       "\n"
      ],
      "text/plain": [
       "   S1 S2 S3\n",
       "1  1  3  1 \n",
       "2  2  3  1 \n",
       "3  3  3  1 \n",
       "4  4  3  1 \n",
       "5  1  4  1 \n",
       "6  2  4  1 \n",
       "7  3  4  1 \n",
       "8  4  4  1 \n",
       "9  1  5  1 \n",
       "10 2  5  1 \n",
       "11 3  5  1 \n",
       "12 4  5  1 \n",
       "13 1  3  2 \n",
       "14 2  3  2 \n",
       "15 3  3  2 \n",
       "16 4  3  2 \n",
       "17 1  4  2 \n",
       "18 2  4  2 \n",
       "19 3  4  2 \n",
       "20 4  4  2 \n",
       "21 1  5  2 \n",
       "22 2  5  2 \n",
       "23 3  5  2 \n",
       "24 4  5  2 "
      ]
     },
     "metadata": {},
     "output_type": "display_data"
    },
    {
     "data": {
      "text/html": [
       "<ol class=list-inline>\n",
       "\t<li>24</li>\n",
       "\t<li>3</li>\n",
       "</ol>\n"
      ],
      "text/latex": [
       "\\begin{enumerate*}\n",
       "\\item 24\n",
       "\\item 3\n",
       "\\end{enumerate*}\n"
      ],
      "text/markdown": [
       "1. 24\n",
       "2. 3\n",
       "\n",
       "\n"
      ],
      "text/plain": [
       "[1] 24  3"
      ]
     },
     "metadata": {},
     "output_type": "display_data"
    }
   ],
   "source": [
    "Tabla <- expand.grid(S1 = 1:4,S2 = 3:5, S3 = 1:2)\n",
    "Tabla\n",
    "d <- dim(Tabla)\n",
    "d"
   ]
  },
  {
   "cell_type": "markdown",
   "metadata": {},
   "source": [
    "$$ A, B, C $$\n",
    "$$ S = \\{(a_{i},b_{j},c_{k})/a_{i}\\in A, b_{j}\\in B, c_{k}\\in C\\} $$"
   ]
  },
  {
   "cell_type": "code",
   "execution_count": 25,
   "metadata": {},
   "outputs": [
    {
     "data": {
      "text/html": [
       "252"
      ],
      "text/latex": [
       "252"
      ],
      "text/markdown": [
       "252"
      ],
      "text/plain": [
       "[1] 252"
      ]
     },
     "metadata": {},
     "output_type": "display_data"
    }
   ],
   "source": [
    "choose(10,5)"
   ]
  },
  {
   "cell_type": "code",
   "execution_count": 27,
   "metadata": {},
   "outputs": [
    {
     "data": {
      "text/html": [
       "<table>\n",
       "<tbody>\n",
       "\t<tr><td>1 </td><td>1 </td><td>1 </td><td>1 </td><td>1 </td><td>1 </td><td>1 </td><td>1 </td><td> 1</td><td>2 </td><td>⋯ </td><td>6 </td><td>6 </td><td>6 </td><td> 6</td><td>7 </td><td>7 </td><td> 7</td><td>8 </td><td> 8</td><td> 9</td></tr>\n",
       "\t<tr><td>2 </td><td>3 </td><td>4 </td><td>5 </td><td>6 </td><td>7 </td><td>8 </td><td>9 </td><td>10</td><td>3 </td><td>⋯ </td><td>7 </td><td>8 </td><td>9 </td><td>10</td><td>8 </td><td>9 </td><td>10</td><td>9 </td><td>10</td><td>10</td></tr>\n",
       "</tbody>\n",
       "</table>\n"
      ],
      "text/latex": [
       "\\begin{tabular}{lllllllllllllllllllllllllllllllllllllllllllll}\n",
       "\t 1  & 1  & 1  & 1  & 1  & 1  & 1  & 1  &  1 & 2  & ⋯  & 6  & 6  & 6  &  6 & 7  & 7  &  7 & 8  &  8 &  9\\\\\n",
       "\t 2  & 3  & 4  & 5  & 6  & 7  & 8  & 9  & 10 & 3  & ⋯  & 7  & 8  & 9  & 10 & 8  & 9  & 10 & 9  & 10 & 10\\\\\n",
       "\\end{tabular}\n"
      ],
      "text/markdown": [
       "\n",
       "| 1  | 1  | 1  | 1  | 1  | 1  | 1  | 1  |  1 | 2  | ⋯  | 6  | 6  | 6  |  6 | 7  | 7  |  7 | 8  |  8 |  9 | \n",
       "| 2  | 3  | 4  | 5  | 6  | 7  | 8  | 9  | 10 | 3  | ⋯  | 7  | 8  | 9  | 10 | 8  | 9  | 10 | 9  | 10 | 10 | \n",
       "\n",
       "\n"
      ],
      "text/plain": [
       "     [,1] [,2] [,3] [,4] [,5] [,6] [,7] [,8] [,9] [,10] [,11] [,12] [,13] [,14]\n",
       "[1,] 1    1    1    1    1    1    1    1     1   2     ⋯     6     6     6    \n",
       "[2,] 2    3    4    5    6    7    8    9    10   3     ⋯     7     8     9    \n",
       "     [,15] [,16] [,17] [,18] [,19] [,20] [,21]\n",
       "[1,]  6    7     7      7    8      8     9   \n",
       "[2,] 10    8     9     10    9     10    10   "
      ]
     },
     "metadata": {},
     "output_type": "display_data"
    },
    {
     "data": {
      "text/html": [
       "<ol class=list-inline>\n",
       "\t<li>2</li>\n",
       "\t<li>45</li>\n",
       "</ol>\n"
      ],
      "text/latex": [
       "\\begin{enumerate*}\n",
       "\\item 2\n",
       "\\item 45\n",
       "\\end{enumerate*}\n"
      ],
      "text/markdown": [
       "1. 2\n",
       "2. 45\n",
       "\n",
       "\n"
      ],
      "text/plain": [
       "[1]  2 45"
      ]
     },
     "metadata": {},
     "output_type": "display_data"
    }
   ],
   "source": [
    "combn(1:10,2)\n",
    "dim(combn(1:10,2))"
   ]
  },
  {
   "cell_type": "code",
   "execution_count": 31,
   "metadata": {},
   "outputs": [
    {
     "data": {
      "text/html": [
       "<ol class=list-inline>\n",
       "\t<li>-1.53191330842674</li>\n",
       "\t<li>-4.12415507249534</li>\n",
       "\t<li>-2.7364026196301</li>\n",
       "\t<li>-2.59771487675607</li>\n",
       "\t<li>1.98295392561704</li>\n",
       "</ol>\n"
      ],
      "text/latex": [
       "\\begin{enumerate*}\n",
       "\\item -1.53191330842674\n",
       "\\item -4.12415507249534\n",
       "\\item -2.7364026196301\n",
       "\\item -2.59771487675607\n",
       "\\item 1.98295392561704\n",
       "\\end{enumerate*}\n"
      ],
      "text/markdown": [
       "1. -1.53191330842674\n",
       "2. -4.12415507249534\n",
       "3. -2.7364026196301\n",
       "4. -2.59771487675607\n",
       "5. 1.98295392561704\n",
       "\n",
       "\n"
      ],
      "text/plain": [
       "[1] -1.531913 -4.124155 -2.736403 -2.597715  1.982954"
      ]
     },
     "metadata": {},
     "output_type": "display_data"
    }
   ],
   "source": [
    "#r(tipo de distribución)\n",
    "# Uniforme\n",
    "# Normal\n",
    "# Geométrica\n",
    "# Poisson\n",
    "# Gamma\n",
    "help(runif)\n",
    "runif(5, min = -10, max = 10)"
   ]
  },
  {
   "cell_type": "code",
   "execution_count": 39,
   "metadata": {},
   "outputs": [
    {
     "data": {
      "text/html": [
       "0.4998157"
      ],
      "text/latex": [
       "0.4998157"
      ],
      "text/markdown": [
       "0.4998157"
      ],
      "text/plain": [
       "[1] 0.4998157"
      ]
     },
     "metadata": {},
     "output_type": "display_data"
    }
   ],
   "source": [
    "# C <- 1\n",
    "# S <- 0\n",
    "n <- 10000000\n",
    "dados <- sample(c(0:1),n,replace=T)\n",
    "p <- sum(dados)/n\n",
    "p"
   ]
  },
  {
   "cell_type": "code",
   "execution_count": 44,
   "metadata": {},
   "outputs": [
    {
     "data": {
      "text/html": [
       "<ol class=list-inline>\n",
       "\t<li>0</li>\n",
       "\t<li>0</li>\n",
       "\t<li>0</li>\n",
       "\t<li>0</li>\n",
       "</ol>\n"
      ],
      "text/latex": [
       "\\begin{enumerate*}\n",
       "\\item 0\n",
       "\\item 0\n",
       "\\item 0\n",
       "\\item 0\n",
       "\\end{enumerate*}\n"
      ],
      "text/markdown": [
       "1. 0\n",
       "2. 0\n",
       "3. 0\n",
       "4. 0\n",
       "\n",
       "\n"
      ],
      "text/plain": [
       "[1] 0 0 0 0"
      ]
     },
     "metadata": {},
     "output_type": "display_data"
    }
   ],
   "source": [
    "numeric(4)"
   ]
  },
  {
   "cell_type": "markdown",
   "metadata": {},
   "source": [
    "$$ X_{0} = V $$\n",
    "$$ X_{i} = (AX_{i-1}+B)\\% MOD $$"
   ]
  },
  {
   "cell_type": "code",
   "execution_count": 52,
   "metadata": {
    "collapsed": true
   },
   "outputs": [],
   "source": [
    "help(sample)"
   ]
  },
  {
   "cell_type": "code",
   "execution_count": 56,
   "metadata": {},
   "outputs": [
    {
     "data": {
      "text/html": [
       "<ol class=list-inline>\n",
       "\t<li>4</li>\n",
       "\t<li>1</li>\n",
       "\t<li>3</li>\n",
       "\t<li>2</li>\n",
       "\t<li>5</li>\n",
       "</ol>\n"
      ],
      "text/latex": [
       "\\begin{enumerate*}\n",
       "\\item 4\n",
       "\\item 1\n",
       "\\item 3\n",
       "\\item 2\n",
       "\\item 5\n",
       "\\end{enumerate*}\n"
      ],
      "text/markdown": [
       "1. 4\n",
       "2. 1\n",
       "3. 3\n",
       "4. 2\n",
       "5. 5\n",
       "\n",
       "\n"
      ],
      "text/plain": [
       "[1] 4 1 3 2 5"
      ]
     },
     "metadata": {},
     "output_type": "display_data"
    }
   ],
   "source": [
    "x <- sample(c(1,3,5,4,2))\n",
    "x"
   ]
  },
  {
   "cell_type": "code",
   "execution_count": 60,
   "metadata": {},
   "outputs": [
    {
     "data": {
      "text/html": [
       "8"
      ],
      "text/latex": [
       "8"
      ],
      "text/markdown": [
       "8"
      ],
      "text/plain": [
       "[1] 8"
      ]
     },
     "metadata": {},
     "output_type": "display_data"
    },
    {
     "name": "stdout",
     "output_type": "stream",
     "text": [
      "[1] \"Ola k ase?\"\n"
     ]
    }
   ],
   "source": [
    "X <- sample(1:6,2,replace=T)\n",
    "suma <- sum(X)\n",
    "suma\n",
    "if( suma > 6 ){\n",
    "    print(\"Ola k ase?\")\n",
    "} else {\n",
    "    print(\"Es menor o igual a 6\")\n",
    "}"
   ]
  },
  {
   "cell_type": "code",
   "execution_count": 64,
   "metadata": {},
   "outputs": [
    {
     "data": {
      "text/html": [
       "7"
      ],
      "text/latex": [
       "7"
      ],
      "text/markdown": [
       "7"
      ],
      "text/plain": [
       "[1] 7"
      ]
     },
     "metadata": {},
     "output_type": "display_data"
    }
   ],
   "source": [
    "X <- 384\n",
    "exponente_de_dos <- 0\n",
    "while(){\n",
    "    X <- X/2\n",
    "    exponente_de_dos <- exponente_de_dos + 1\n",
    "}\n",
    "exponente_de_dos"
   ]
  },
  {
   "cell_type": "code",
   "execution_count": 70,
   "metadata": {},
   "outputs": [
    {
     "name": "stdout",
     "output_type": "stream",
     "text": [
      "[1] 1\n",
      "[1] 3\n",
      "[1] 5\n",
      "[1] 7\n"
     ]
    },
    {
     "data": {
      "text/html": [
       "<ol class=list-inline>\n",
       "\t<li>1</li>\n",
       "\t<li>5</li>\n",
       "\t<li>7</li>\n",
       "</ol>\n"
      ],
      "text/latex": [
       "\\begin{enumerate*}\n",
       "\\item 1\n",
       "\\item 5\n",
       "\\item 7\n",
       "\\end{enumerate*}\n"
      ],
      "text/markdown": [
       "1. 1\n",
       "2. 5\n",
       "3. 7\n",
       "\n",
       "\n"
      ],
      "text/plain": [
       "[1] 1 5 7"
      ]
     },
     "metadata": {},
     "output_type": "display_data"
    }
   ],
   "source": [
    "x <- c(1,3,5,7)\n",
    "for (i in x){\n",
    "    print(i)\n",
    "}"
   ]
  },
  {
   "cell_type": "code",
   "execution_count": 71,
   "metadata": {},
   "outputs": [
    {
     "data": {
      "text/html": [
       "29.3001706479672"
      ],
      "text/latex": [
       "29.3001706479672"
      ],
      "text/markdown": [
       "29.3001706479672"
      ],
      "text/plain": [
       "[1] 29.30017"
      ]
     },
     "metadata": {},
     "output_type": "display_data"
    }
   ],
   "source": [
    "desviacion <- sd(0:100)\n",
    "desviacion"
   ]
  },
  {
   "cell_type": "code",
   "execution_count": 72,
   "metadata": {},
   "outputs": [
    {
     "name": "stdout",
     "output_type": "stream",
     "text": [
      "\n",
      "\n",
      "\tdemo(plotmath)\n",
      "\t---- ~~~~~~~~\n",
      "\n",
      "> #  Copyright (C) 2002-2016 The R Core Team\n",
      "> \n",
      "> require(datasets)\n",
      "\n",
      "> require(grDevices); require(graphics)\n",
      "\n",
      "> ## --- \"math annotation\" in plots :\n",
      "> \n",
      "> ######\n",
      "> # create tables of mathematical annotation functionality\n",
      "> ######\n",
      "> make.table <- function(nr, nc) {\n",
      "+     savepar <- par(mar=rep(0, 4), pty=\"s\")\n",
      "+     plot(c(0, nc*2 + 1), c(0, -(nr + 1)),\n",
      "+          type=\"n\", xlab=\"\", ylab=\"\", axes=FALSE)\n",
      "+     savepar\n",
      "+ }\n",
      "\n",
      "> get.r <- function(i, nr) {\n",
      "+     i %% nr + 1\n",
      "+ }\n",
      "\n",
      "> get.c <- function(i, nr) {\n",
      "+     i %/% nr + 1\n",
      "+ }\n",
      "\n",
      "> draw.title.cell <- function(title, i, nr) {\n",
      "+     r <- get.r(i, nr)\n",
      "+     c <- get.c(i, nr)\n",
      "+     text(2*c - .5, -r, title)\n",
      "+     rect((2*(c - 1) + .5), -(r - .5), (2*c + .5), -(r + .5))\n",
      "+ }\n",
      "\n",
      "> draw.plotmath.cell <- function(expr, i, nr, string = NULL) {\n",
      "+     r <- get.r(i, nr)\n",
      "+     c <- get.c(i, nr)\n",
      "+     if (is.null(string)) {\n",
      "+         string <- deparse(expr)\n",
      "+         string <- substr(string, 12, nchar(string) - 1)\n",
      "+     }\n",
      "+     text((2*(c - 1) + 1), -r, string, col=\"grey50\")\n",
      "+     text((2*c), -r, expr, adj=c(.5,.5))\n",
      "+     rect((2*(c - 1) + .5), -(r - .5), (2*c + .5), -(r + .5), border=\"grey\")\n",
      "+ }\n",
      "\n",
      "> nr <- 20\n",
      "\n",
      "> nc <- 2\n",
      "\n",
      "> oldpar <- make.table(nr, nc)\n",
      "\n",
      "> i <- 0\n",
      "\n",
      "> draw.title.cell(\"Arithmetic Operators\", i, nr); i <- i + 1\n",
      "\n",
      "> draw.plotmath.cell(expression(x + y), i, nr); i <- i + 1\n",
      "\n",
      "> draw.plotmath.cell(expression(x - y), i, nr); i <- i + 1\n",
      "\n",
      "> draw.plotmath.cell(expression(x * y), i, nr); i <- i + 1\n",
      "\n",
      "> draw.plotmath.cell(expression(x / y), i, nr); i <- i + 1\n",
      "\n",
      "> draw.plotmath.cell(expression(x %+-% y), i, nr); i <- i + 1\n",
      "\n",
      "> draw.plotmath.cell(expression(x %/% y), i, nr); i <- i + 1\n",
      "\n",
      "> draw.plotmath.cell(expression(x %*% y), i, nr); i <- i + 1\n",
      "\n",
      "> draw.plotmath.cell(expression(x %.% y), i, nr); i <- i + 1\n",
      "\n",
      "> draw.plotmath.cell(expression(-x), i, nr); i <- i + 1\n",
      "\n",
      "> draw.plotmath.cell(expression(+x), i, nr); i <- i + 1\n",
      "\n",
      "> draw.title.cell(\"Sub/Superscripts\", i, nr); i <- i + 1\n",
      "\n",
      "> draw.plotmath.cell(expression(x[i]), i, nr); i <- i + 1\n",
      "\n",
      "> draw.plotmath.cell(expression(x^2), i, nr); i <- i + 1\n",
      "\n",
      "> draw.title.cell(\"Juxtaposition\", i, nr); i <- i + 1\n",
      "\n",
      "> draw.plotmath.cell(expression(x * y), i, nr); i <- i + 1\n",
      "\n",
      "> draw.plotmath.cell(expression(paste(x, y, z)), i, nr); i <- i + 1\n",
      "\n",
      "> draw.title.cell(\"Radicals\", i, nr); i <- i + 1\n",
      "\n",
      "> draw.plotmath.cell(expression(sqrt(x)), i, nr); i <- i + 1\n",
      "\n",
      "> draw.plotmath.cell(expression(sqrt(x, y)), i, nr); i <- i + 1\n",
      "\n",
      "> draw.title.cell(\"Lists\", i, nr); i <- i + 1\n",
      "\n",
      "> draw.plotmath.cell(expression(list(x, y, z)), i, nr); i <- i + 1\n",
      "\n",
      "> draw.title.cell(\"Relations\", i, nr); i <- i + 1\n",
      "\n",
      "> draw.plotmath.cell(expression(x == y), i, nr); i <- i + 1\n",
      "\n",
      "> draw.plotmath.cell(expression(x != y), i, nr); i <- i + 1\n",
      "\n",
      "> draw.plotmath.cell(expression(x < y), i, nr); i <- i + 1\n",
      "\n",
      "> draw.plotmath.cell(expression(x <= y), i, nr); i <- i + 1\n",
      "\n",
      "> draw.plotmath.cell(expression(x > y), i, nr); i <- i + 1\n",
      "\n",
      "> draw.plotmath.cell(expression(x >= y), i, nr); i <- i + 1\n",
      "\n",
      "> draw.plotmath.cell(expression(x %~~% y), i, nr); i <- i + 1\n",
      "\n",
      "> draw.plotmath.cell(expression(x %=~% y), i, nr); i <- i + 1\n",
      "\n",
      "> draw.plotmath.cell(expression(x %==% y), i, nr); i <- i + 1\n",
      "\n",
      "> draw.plotmath.cell(expression(x %prop% y), i, nr); i <- i + 1\n",
      "\n",
      "> draw.plotmath.cell(expression(x %~% y), i, nr); i <- i + 1\n",
      "\n",
      "> draw.title.cell(\"Typeface\", i, nr); i <- i + 1\n",
      "\n",
      "> draw.plotmath.cell(expression(plain(x)), i, nr); i <- i + 1\n",
      "\n",
      "> draw.plotmath.cell(expression(italic(x)), i, nr); i <- i + 1\n",
      "\n",
      "> draw.plotmath.cell(expression(bold(x)), i, nr); i <- i + 1\n",
      "\n",
      "> draw.plotmath.cell(expression(bolditalic(x)), i, nr); i <- i + 1\n",
      "\n",
      "> draw.plotmath.cell(expression(underline(x)), i, nr); i <- i + 1\n",
      "\n",
      "> # Need fewer, wider columns for ellipsis ...\n",
      "> nr <- 20\n",
      "\n",
      "> nc <- 2\n",
      "\n",
      "> make.table(nr, nc)\n"
     ]
    },
    {
     "data": {
      "image/png": "[encoded data removed]",
      "text/plain": [
       "plot without title"
      ]
     },
     "metadata": {},
     "output_type": "display_data"
    },
    {
     "name": "stdout",
     "output_type": "stream",
     "text": [
      "$mar\n",
      "[1] 0 0 0 0\n",
      "\n",
      "$pty\n",
      "[1] \"s\"\n",
      "\n",
      "\n",
      "> i <- 0\n",
      "\n",
      "> draw.title.cell(\"Ellipsis\", i, nr); i <- i + 1\n",
      "\n",
      "> draw.plotmath.cell(expression(list(x[1], ..., x[n])), i, nr); i <- i + 1\n",
      "\n",
      "> draw.plotmath.cell(expression(x[1] + ... + x[n]), i, nr); i <- i + 1\n",
      "\n",
      "> draw.plotmath.cell(expression(list(x[1], cdots, x[n])), i, nr); i <- i + 1\n",
      "\n",
      "> draw.plotmath.cell(expression(x[1] + ldots + x[n]), i, nr); i <- i + 1\n",
      "\n",
      "> draw.title.cell(\"Set Relations\", i, nr); i <- i + 1\n",
      "\n",
      "> draw.plotmath.cell(expression(x %subset% y), i, nr); i <- i + 1\n",
      "\n",
      "> draw.plotmath.cell(expression(x %subseteq% y), i, nr); i <- i + 1\n",
      "\n",
      "> draw.plotmath.cell(expression(x %supset% y), i, nr); i <- i + 1\n",
      "\n",
      "> draw.plotmath.cell(expression(x %supseteq% y), i, nr); i <- i + 1\n",
      "\n",
      "> draw.plotmath.cell(expression(x %notsubset% y), i, nr); i <- i + 1\n",
      "\n",
      "> draw.plotmath.cell(expression(x %in% y), i, nr); i <- i + 1\n",
      "\n",
      "> draw.plotmath.cell(expression(x %notin% y), i, nr); i <- i + 1\n",
      "\n",
      "> draw.title.cell(\"Accents\", i, nr); i <- i + 1\n",
      "\n",
      "> draw.plotmath.cell(expression(hat(x)), i, nr); i <- i + 1\n",
      "\n",
      "> draw.plotmath.cell(expression(tilde(x)), i, nr); i <- i + 1\n",
      "\n",
      "> draw.plotmath.cell(expression(ring(x)), i, nr); i <- i + 1\n",
      "\n",
      "> draw.plotmath.cell(expression(bar(xy)), i, nr); i <- i + 1\n",
      "\n",
      "> draw.plotmath.cell(expression(widehat(xy)), i, nr); i <- i + 1\n",
      "\n",
      "> draw.plotmath.cell(expression(widetilde(xy)), i, nr); i <- i + 1\n",
      "\n",
      "> draw.title.cell(\"Arrows\", i, nr); i <- i + 1\n",
      "\n",
      "> draw.plotmath.cell(expression(x %<->% y), i, nr); i <- i + 1\n",
      "\n",
      "> draw.plotmath.cell(expression(x %->% y), i, nr); i <- i + 1\n",
      "\n",
      "> draw.plotmath.cell(expression(x %<-% y), i, nr); i <- i + 1\n",
      "\n",
      "> draw.plotmath.cell(expression(x %up% y), i, nr); i <- i + 1\n",
      "\n",
      "> draw.plotmath.cell(expression(x %down% y), i, nr); i <- i + 1\n",
      "\n",
      "> draw.plotmath.cell(expression(x %<=>% y), i, nr); i <- i + 1\n",
      "\n",
      "> draw.plotmath.cell(expression(x %=>% y), i, nr); i <- i + 1\n",
      "\n",
      "> draw.plotmath.cell(expression(x %<=% y), i, nr); i <- i + 1\n",
      "\n",
      "> draw.plotmath.cell(expression(x %dblup% y), i, nr); i <- i + 1\n",
      "\n",
      "> draw.plotmath.cell(expression(x %dbldown% y), i, nr); i <- i + 1\n",
      "\n",
      "> draw.title.cell(\"Symbolic Names\", i, nr); i <- i + 1\n",
      "\n",
      "> draw.plotmath.cell(expression(Alpha - Omega), i, nr); i <- i + 1\n",
      "\n",
      "> draw.plotmath.cell(expression(alpha - omega), i, nr); i <- i + 1\n",
      "\n",
      "> draw.plotmath.cell(expression(phi1 + sigma1), i, nr); i <- i + 1\n",
      "\n",
      "> draw.plotmath.cell(expression(Upsilon1), i, nr); i <- i + 1\n",
      "\n",
      "> draw.plotmath.cell(expression(infinity), i, nr); i <- i + 1\n",
      "\n",
      "> draw.plotmath.cell(expression(32 * degree), i, nr); i <- i + 1\n",
      "\n",
      "> draw.plotmath.cell(expression(60 * minute), i, nr); i <- i + 1\n",
      "\n",
      "> draw.plotmath.cell(expression(30 * second), i, nr); i <- i + 1\n",
      "\n",
      "> # Need even fewer, wider columns for typeface and style ...\n",
      "> nr <- 20\n",
      "\n",
      "> nc <- 1\n",
      "\n",
      "> make.table(nr, nc)\n",
      "$mar\n",
      "[1] 0 0 0 0\n",
      "\n",
      "$pty\n",
      "[1] \"s\"\n",
      "\n",
      "\n",
      "> i <- 0\n",
      "\n",
      "> draw.title.cell(\"Style\", i, nr); i <- i + 1\n",
      "\n",
      "> draw.plotmath.cell(expression(displaystyle(x)), i, nr); i <- i + 1\n",
      "\n",
      "> draw.plotmath.cell(expression(textstyle(x)), i, nr); i <- i + 1\n",
      "\n",
      "> draw.plotmath.cell(expression(scriptstyle(x)), i, nr); i <- i + 1\n",
      "\n",
      "> draw.plotmath.cell(expression(scriptscriptstyle(x)), i, nr); i <- i + 1\n",
      "\n",
      "> draw.title.cell(\"Spacing\", i, nr); i <- i + 1\n",
      "\n",
      "> draw.plotmath.cell(expression(x ~~ y), i, nr); i <- i + 1\n",
      "\n",
      "> # Need fewer, taller rows for fractions ...\n",
      "> # cheat a bit to save pages\n",
      "> par(new = TRUE)\n",
      "\n",
      "> nr <- 10\n",
      "\n",
      "> nc <- 1\n",
      "\n",
      "> make.table(nr, nc)\n"
     ]
    },
    {
     "data": {
      "image/png": "[encoded data removed]",
      "text/plain": [
       "plot without title"
      ]
     },
     "metadata": {},
     "output_type": "display_data"
    },
    {
     "name": "stdout",
     "output_type": "stream",
     "text": [
      "$mar\n",
      "[1] 0 0 0 0\n",
      "\n",
      "$pty\n",
      "[1] \"s\"\n",
      "\n",
      "\n",
      "> i <- 4\n",
      "\n",
      "> draw.plotmath.cell(expression(x + phantom(0) + y), i, nr); i <- i + 1\n",
      "\n",
      "> draw.plotmath.cell(expression(x + over(1, phantom(0))), i, nr); i <- i + 1\n",
      "\n",
      "> draw.title.cell(\"Fractions\", i, nr); i <- i + 1\n",
      "\n",
      "> draw.plotmath.cell(expression(frac(x, y)), i, nr); i <- i + 1\n",
      "\n",
      "> draw.plotmath.cell(expression(over(x, y)), i, nr); i <- i + 1\n",
      "\n",
      "> draw.plotmath.cell(expression(atop(x, y)), i, nr); i <- i + 1\n",
      "\n",
      "> # Need fewer, taller rows and fewer, wider columns for big operators ...\n",
      "> nr <- 10\n",
      "\n",
      "> nc <- 1\n",
      "\n",
      "> make.table(nr, nc)\n"
     ]
    },
    {
     "data": {
      "image/png": "[encoded data removed]",
      "text/plain": [
       "plot without title"
      ]
     },
     "metadata": {},
     "output_type": "display_data"
    },
    {
     "name": "stdout",
     "output_type": "stream",
     "text": [
      "$mar\n",
      "[1] 0 0 0 0\n",
      "\n",
      "$pty\n",
      "[1] \"s\"\n",
      "\n",
      "\n",
      "> i <- 0\n",
      "\n",
      "> draw.title.cell(\"Big Operators\", i, nr); i <- i + 1\n",
      "\n",
      "> draw.plotmath.cell(expression(sum(x[i], i=1, n)), i, nr); i <- i + 1\n",
      "\n",
      "> draw.plotmath.cell(expression(prod(plain(P)(X == x), x)), i, nr); i <- i + 1\n",
      "\n",
      "> draw.plotmath.cell(expression(integral(f(x) * dx, a, b)), i, nr); i <- i + 1\n",
      "\n",
      "> draw.plotmath.cell(expression(union(A[i], i==1, n)), i, nr); i <- i + 1\n",
      "\n",
      "> draw.plotmath.cell(expression(intersect(A[i], i==1, n)), i, nr); i <- i + 1\n",
      "\n",
      "> draw.plotmath.cell(expression(lim(f(x), x %->% 0)), i, nr); i <- i + 1\n",
      "\n",
      "> draw.plotmath.cell(expression(min(g(x), x >= 0)), i, nr); i <- i + 1\n",
      "\n",
      "> draw.plotmath.cell(expression(inf(S)), i, nr); i <- i + 1\n",
      "\n",
      "> draw.plotmath.cell(expression(sup(S)), i, nr); i <- i + 1\n",
      "\n",
      "> nr <- 11\n",
      "\n",
      "> make.table(nr, nc)\n"
     ]
    },
    {
     "data": {
      "image/png": "[encoded data removed]",
      "text/plain": [
       "plot without title"
      ]
     },
     "metadata": {},
     "output_type": "display_data"
    },
    {
     "name": "stdout",
     "output_type": "stream",
     "text": [
      "$mar\n",
      "[1] 0 0 0 0\n",
      "\n",
      "$pty\n",
      "[1] \"s\"\n",
      "\n",
      "\n",
      "> i <- 0\n",
      "\n",
      "> draw.title.cell(\"Grouping\", i, nr); i <- i + 1\n",
      "\n",
      "> # Those involving '{ . }' have to be done \"by hand\"\n",
      "> draw.plotmath.cell(expression({}(x , y)), i, nr, string=\"{}(x, y)\"); i <- i + 1\n",
      "\n",
      "> draw.plotmath.cell(expression((x + y)*z), i, nr); i <- i + 1\n",
      "\n",
      "> draw.plotmath.cell(expression(x^y + z),   i, nr); i <- i + 1\n",
      "\n",
      "> draw.plotmath.cell(expression(x^(y + z)), i, nr); i <- i + 1\n",
      "\n",
      "> draw.plotmath.cell(expression(x^{y + z}), i, nr, string=\"x^{y + z}\"); i <- i + 1\n",
      "\n",
      "> draw.plotmath.cell(expression(group(\"(\", list(a, b), \"]\")), i, nr); i <- i + 1\n",
      "\n",
      "> draw.plotmath.cell(expression(bgroup(\"(\", atop(x, y), \")\")), i, nr); i <- i + 1\n",
      "\n",
      "> draw.plotmath.cell(expression(group(lceil, x, rceil)), i, nr); i <- i + 1\n",
      "\n",
      "> draw.plotmath.cell(expression(group(lfloor, x, rfloor)), i, nr); i <- i + 1\n",
      "\n",
      "> draw.plotmath.cell(expression(group(\"|\", x, \"|\")), i, nr); i <- i + 1\n",
      "\n",
      "> par(oldpar)\n"
     ]
    },
    {
     "data": {
      "image/png": "[encoded data removed]",
      "text/plain": [
       "plot without title"
      ]
     },
     "metadata": {},
     "output_type": "display_data"
    }
   ],
   "source": [
    "demo(plotmath)"
   ]
  },
  {
   "cell_type": "code",
   "execution_count": 81,
   "metadata": {},
   "outputs": [
    {
     "data": {
      "text/html": [
       "<ol class=list-inline>\n",
       "\t<li>'gato'</li>\n",
       "\t<li>'gato'</li>\n",
       "\t<li>'pollo'</li>\n",
       "\t<li>'gato'</li>\n",
       "\t<li>'pollo'</li>\n",
       "\t<li>'pollo'</li>\n",
       "\t<li>'perro'</li>\n",
       "\t<li>'gato'</li>\n",
       "\t<li>'pez dorado'</li>\n",
       "\t<li>'pollo'</li>\n",
       "</ol>\n"
      ],
      "text/latex": [
       "\\begin{enumerate*}\n",
       "\\item 'gato'\n",
       "\\item 'gato'\n",
       "\\item 'pollo'\n",
       "\\item 'gato'\n",
       "\\item 'pollo'\n",
       "\\item 'pollo'\n",
       "\\item 'perro'\n",
       "\\item 'gato'\n",
       "\\item 'pez dorado'\n",
       "\\item 'pollo'\n",
       "\\end{enumerate*}\n"
      ],
      "text/markdown": [
       "1. 'gato'\n",
       "2. 'gato'\n",
       "3. 'pollo'\n",
       "4. 'gato'\n",
       "5. 'pollo'\n",
       "6. 'pollo'\n",
       "7. 'perro'\n",
       "8. 'gato'\n",
       "9. 'pez dorado'\n",
       "10. 'pollo'\n",
       "\n",
       "\n"
      ],
      "text/plain": [
       " [1] \"gato\"       \"gato\"       \"pollo\"      \"gato\"       \"pollo\"     \n",
       " [6] \"pollo\"      \"perro\"      \"gato\"       \"pez dorado\" \"pollo\"     "
      ]
     },
     "metadata": {},
     "output_type": "display_data"
    },
    {
     "data": {
      "text/html": [
       "<ol class=list-inline>\n",
       "\t<li>269</li>\n",
       "\t<li>217</li>\n",
       "\t<li>263</li>\n",
       "\t<li>251</li>\n",
       "</ol>\n"
      ],
      "text/latex": [
       "\\begin{enumerate*}\n",
       "\\item 269\n",
       "\\item 217\n",
       "\\item 263\n",
       "\\item 251\n",
       "\\end{enumerate*}\n"
      ],
      "text/markdown": [
       "1. 269\n",
       "2. 217\n",
       "3. 263\n",
       "4. 251\n",
       "\n",
       "\n"
      ],
      "text/plain": [
       "[1] 269 217 263 251"
      ]
     },
     "metadata": {},
     "output_type": "display_data"
    },
    {
     "data": {
      "text/html": [
       "<ol class=list-inline>\n",
       "\t<li>269</li>\n",
       "\t<li>217</li>\n",
       "\t<li>263</li>\n",
       "\t<li>251</li>\n",
       "</ol>\n"
      ],
      "text/latex": [
       "\\begin{enumerate*}\n",
       "\\item 269\n",
       "\\item 217\n",
       "\\item 263\n",
       "\\item 251\n",
       "\\end{enumerate*}\n"
      ],
      "text/markdown": [
       "1. 269\n",
       "2. 217\n",
       "3. 263\n",
       "4. 251\n",
       "\n",
       "\n"
      ],
      "text/plain": [
       "[1] 269 217 263 251"
      ]
     },
     "metadata": {},
     "output_type": "display_data"
    }
   ],
   "source": [
    "mascotas <- c(\"gato\",\"perro\",\"pollo\",\"pez dorado\")\n",
    "Muestreo <- sample(mascotas,1000,replace=TRUE)\n",
    "Muestreo[1:10]\n",
    "contadores <- numeric(4)\n",
    "contadores2 <- numeric(4)\n",
    "for (i in Muestreo){\n",
    "    if(i == \"gato\"){\n",
    "        contadores[1] <- contadores[1] + 1\n",
    "    } else if (i == \"perro\"){\n",
    "        contadores[2] <- contadores[2] + 1\n",
    "    } else if (i == \"pollo\"){\n",
    "        contadores[3] <- contadores[3] + 1\n",
    "    } else {\n",
    "        contadores[4] <- contadores[4] + 1\n",
    "    }\n",
    "}\n",
    "contadores2[1] <- sum(Muestreo == \"gato\")\n",
    "contadores2[2] <- length(Muestreo[Muestreo == \"perro\"])\n",
    "contadores2[3] <- length(Muestreo[Muestreo == \"pollo\"])\n",
    "contadores2[4] <- length(Muestreo[Muestreo == \"pez dorado\"])\n",
    "contadores\n",
    "contadores2"
   ]
  },
  {
   "cell_type": "code",
   "execution_count": 84,
   "metadata": {},
   "outputs": [
    {
     "data": {
      "text/html": [
       "'El numero con menor longitud de secuencia es: 320\n",
       "'"
      ],
      "text/latex": [
       "'El numero con menor longitud de secuencia es: 320\n",
       "'"
      ],
      "text/markdown": [
       "'El numero con menor longitud de secuencia es: 320\n",
       "'"
      ],
      "text/plain": [
       "[1] \"El numero con menor longitud de secuencia es: 320\\n\""
      ]
     },
     "metadata": {},
     "output_type": "display_data"
    },
    {
     "name": "stdout",
     "output_type": "stream",
     "text": [
      "[1] \"La secuencia es\"\n",
      "[1] 320\n",
      "[1] 160\n",
      "[1] 80\n",
      "[1] 40\n",
      "[1] 20\n",
      "[1] 10\n",
      "[1] 5\n",
      "[1] 16\n",
      "[1] 8\n",
      "[1] 4\n",
      "[1] 2\n",
      "[1] 1\n"
     ]
    }
   ],
   "source": [
    "numero <- -1\n",
    "pasos_minimos <- 100000000\n",
    "for(i in 300:400){\n",
    "    carry <- i\n",
    "    pasos <- 1\n",
    "    while(carry != 1){\n",
    "        if( carry %% 2 == 0){\n",
    "            carry <- carry/2\n",
    "        } else {\n",
    "            carry <- 3*carry+1\n",
    "        }\n",
    "        pasos <- pasos+1\n",
    "    }\n",
    "    if(pasos < pasos_minimos){\n",
    "        numero <- i\n",
    "        pasos_minimos <- pasos\n",
    "    }\n",
    "}\n",
    "sprintf(\"El numero con menor longitud de secuencia es: %d\\n\",numero)\n",
    "print(\"La secuencia es\")\n",
    "while(numero!=1){\n",
    "    print(numero)\n",
    "    if(numero %% 2 == 0){\n",
    "        numero <- numero/2\n",
    "    } else {\n",
    "        numero <- 3*numero +1\n",
    "    }\n",
    "}\n",
    "print(1)"
   ]
  },
  {
   "cell_type": "markdown",
   "metadata": {},
   "source": [
    "$$ GCD(a,b) = GCD(b,a\\%b) $$"
   ]
  },
  {
   "cell_type": "code",
   "execution_count": 86,
   "metadata": {},
   "outputs": [
    {
     "name": "stdout",
     "output_type": "stream",
     "text": [
      "[1] 1\n"
     ]
    }
   ],
   "source": [
    "a <- 100000+3\n",
    "b <- 100000000+9\n",
    "while(b!=0){\n",
    "    carry <- a %% b\n",
    "    a <- b\n",
    "    b <- carry\n",
    "}\n",
    "print(a)"
   ]
  },
  {
   "cell_type": "markdown",
   "metadata": {},
   "source": [
    "$$ \\Pi(n) \\approx O(\\frac{n}{ln(n)}) $$"
   ]
  },
  {
   "cell_type": "code",
   "execution_count": 94,
   "metadata": {},
   "outputs": [
    {
     "data": {
      "text/html": [
       "0.2"
      ],
      "text/latex": [
       "0.2"
      ],
      "text/markdown": [
       "0.2"
      ],
      "text/plain": [
       "[1] 0.2"
      ]
     },
     "metadata": {},
     "output_type": "display_data"
    },
    {
     "data": {
      "text/html": [
       "2.41377515320805e-18"
      ],
      "text/latex": [
       "2.41377515320805e-18"
      ],
      "text/markdown": [
       "2.41377515320805e-18"
      ],
      "text/plain": [
       "[1] 2.413775e-18"
      ]
     },
     "metadata": {},
     "output_type": "display_data"
    }
   ],
   "source": [
    "Muestreo <- sample(1:2000,20,replace=TRUE)\n",
    "contador_de_primos <- 0\n",
    "for(i in Muestreo){\n",
    "    j <- 2\n",
    "    primo <- TRUE\n",
    "    while(j*j <= i && primo){\n",
    "        if(i %% j == 0){\n",
    "            primo = FALSE\n",
    "        }\n",
    "        j <- j+1\n",
    "    }\n",
    "    if(primo){\n",
    "        contador_de_primos <- contador_de_primos+1\n",
    "    }\n",
    "}\n",
    "ratio <- contador_de_primos/20\n",
    "ratio\n",
    "p <- 1/log(2000)\n",
    "p^20"
   ]
  },
  {
   "cell_type": "markdown",
   "metadata": {},
   "source": [
    "$$ Cantidad(Primos <= n) \\approx \\frac{n}{ln(n)} $$\n",
    "$$ P(x\\,sea\\,primo<=n) \\approx \\frac{\\frac{n}{ln(n)}}{n} = \\frac{1}{ln(n)} $$"
   ]
  },
  {
   "cell_type": "code",
   "execution_count": 106,
   "metadata": {},
   "outputs": [
    {
     "data": {
      "text/html": [
       "6"
      ],
      "text/latex": [
       "6"
      ],
      "text/markdown": [
       "6"
      ],
      "text/plain": [
       "[1] 6"
      ]
     },
     "metadata": {},
     "output_type": "display_data"
    },
    {
     "data": {
      "text/plain": [
       "[1] NA"
      ]
     },
     "metadata": {},
     "output_type": "display_data"
    },
    {
     "data": {
      "text/html": [
       "3"
      ],
      "text/latex": [
       "3"
      ],
      "text/markdown": [
       "3"
      ],
      "text/plain": [
       "[1] 3"
      ]
     },
     "metadata": {},
     "output_type": "display_data"
    }
   ],
   "source": [
    "x <- c(1,2,3,4,5,6)\n",
    "sum(!is.na(x))\n",
    "x[length(x) + 1]/length(x)\n",
    "sum(x > mean(x))"
   ]
  },
  {
   "cell_type": "code",
   "execution_count": 119,
   "metadata": {},
   "outputs": [
    {
     "data": {
      "text/html": [
       "<ol class=list-inline>\n",
       "\t<li>0.666666666666667</li>\n",
       "\t<li>0.533333333333333</li>\n",
       "\t<li>0.457142857142857</li>\n",
       "\t<li>0.406349206349206</li>\n",
       "\t<li>0.369408369408369</li>\n",
       "\t<li>0.340992340992341</li>\n",
       "\t<li>0.318259518259518</li>\n",
       "\t<li>0.299538370126605</li>\n",
       "\t<li>0.283773192751521</li>\n",
       "\t<li>0.270260183572877</li>\n",
       "\t<li>0.258509740808839</li>\n",
       "\t<li>0.248169351176485</li>\n",
       "\t<li>0.238977893725504</li>\n",
       "\t<li>0.230737276700487</li>\n",
       "\t<li>0.223294138742407</li>\n",
       "\t<li>0.216527649689607</li>\n",
       "\t<li>0.210341145412761</li>\n",
       "\t<li>0.204656249590794</li>\n",
       "\t<li>0.19940865344744</li>\n",
       "</ol>\n"
      ],
      "text/latex": [
       "\\begin{enumerate*}\n",
       "\\item 0.666666666666667\n",
       "\\item 0.533333333333333\n",
       "\\item 0.457142857142857\n",
       "\\item 0.406349206349206\n",
       "\\item 0.369408369408369\n",
       "\\item 0.340992340992341\n",
       "\\item 0.318259518259518\n",
       "\\item 0.299538370126605\n",
       "\\item 0.283773192751521\n",
       "\\item 0.270260183572877\n",
       "\\item 0.258509740808839\n",
       "\\item 0.248169351176485\n",
       "\\item 0.238977893725504\n",
       "\\item 0.230737276700487\n",
       "\\item 0.223294138742407\n",
       "\\item 0.216527649689607\n",
       "\\item 0.210341145412761\n",
       "\\item 0.204656249590794\n",
       "\\item 0.19940865344744\n",
       "\\end{enumerate*}\n"
      ],
      "text/markdown": [
       "1. 0.666666666666667\n",
       "2. 0.533333333333333\n",
       "3. 0.457142857142857\n",
       "4. 0.406349206349206\n",
       "5. 0.369408369408369\n",
       "6. 0.340992340992341\n",
       "7. 0.318259518259518\n",
       "8. 0.299538370126605\n",
       "9. 0.283773192751521\n",
       "10. 0.270260183572877\n",
       "11. 0.258509740808839\n",
       "12. 0.248169351176485\n",
       "13. 0.238977893725504\n",
       "14. 0.230737276700487\n",
       "15. 0.223294138742407\n",
       "16. 0.216527649689607\n",
       "17. 0.210341145412761\n",
       "18. 0.204656249590794\n",
       "19. 0.19940865344744\n",
       "\n",
       "\n"
      ],
      "text/plain": [
       " [1] 0.6666667 0.5333333 0.4571429 0.4063492 0.3694084 0.3409923 0.3182595\n",
       " [8] 0.2995384 0.2837732 0.2702602 0.2585097 0.2481694 0.2389779 0.2307373\n",
       "[15] 0.2232941 0.2165276 0.2103411 0.2046562 0.1994087"
      ]
     },
     "metadata": {},
     "output_type": "display_data"
    },
    {
     "data": {
      "text/html": [
       "<ol class=list-inline>\n",
       "\t<li>0.666666666666667</li>\n",
       "\t<li>0.533333333333333</li>\n",
       "\t<li>0.457142857142857</li>\n",
       "\t<li>0.406349206349206</li>\n",
       "\t<li>0.369408369408369</li>\n",
       "\t<li>0.340992340992341</li>\n",
       "\t<li>0.318259518259518</li>\n",
       "\t<li>0.299538370126605</li>\n",
       "\t<li>0.283773192751521</li>\n",
       "\t<li>0.270260183572877</li>\n",
       "\t<li>0.258509740808839</li>\n",
       "\t<li>0.248169351176485</li>\n",
       "\t<li>0.238977893725504</li>\n",
       "\t<li>0.230737276700487</li>\n",
       "\t<li>0.223294138742407</li>\n",
       "\t<li>0.216527649689607</li>\n",
       "\t<li>0.210341145412761</li>\n",
       "\t<li>0.204656249590794</li>\n",
       "\t<li>0.19940865344744</li>\n",
       "</ol>\n"
      ],
      "text/latex": [
       "\\begin{enumerate*}\n",
       "\\item 0.666666666666667\n",
       "\\item 0.533333333333333\n",
       "\\item 0.457142857142857\n",
       "\\item 0.406349206349206\n",
       "\\item 0.369408369408369\n",
       "\\item 0.340992340992341\n",
       "\\item 0.318259518259518\n",
       "\\item 0.299538370126605\n",
       "\\item 0.283773192751521\n",
       "\\item 0.270260183572877\n",
       "\\item 0.258509740808839\n",
       "\\item 0.248169351176485\n",
       "\\item 0.238977893725504\n",
       "\\item 0.230737276700487\n",
       "\\item 0.223294138742407\n",
       "\\item 0.216527649689607\n",
       "\\item 0.210341145412761\n",
       "\\item 0.204656249590794\n",
       "\\item 0.19940865344744\n",
       "\\end{enumerate*}\n"
      ],
      "text/markdown": [
       "1. 0.666666666666667\n",
       "2. 0.533333333333333\n",
       "3. 0.457142857142857\n",
       "4. 0.406349206349206\n",
       "5. 0.369408369408369\n",
       "6. 0.340992340992341\n",
       "7. 0.318259518259518\n",
       "8. 0.299538370126605\n",
       "9. 0.283773192751521\n",
       "10. 0.270260183572877\n",
       "11. 0.258509740808839\n",
       "12. 0.248169351176485\n",
       "13. 0.238977893725504\n",
       "14. 0.230737276700487\n",
       "15. 0.223294138742407\n",
       "16. 0.216527649689607\n",
       "17. 0.210341145412761\n",
       "18. 0.204656249590794\n",
       "19. 0.19940865344744\n",
       "\n",
       "\n"
      ],
      "text/plain": [
       " [1] 0.6666667 0.5333333 0.4571429 0.4063492 0.3694084 0.3409923 0.3182595\n",
       " [8] 0.2995384 0.2837732 0.2702602 0.2585097 0.2481694 0.2389779 0.2307373\n",
       "[15] 0.2232941 0.2165276 0.2103411 0.2046562 0.1994087"
      ]
     },
     "metadata": {},
     "output_type": "display_data"
    },
    {
     "data": {
      "text/html": [
       "6.97634613789762"
      ],
      "text/latex": [
       "6.97634613789762"
      ],
      "text/markdown": [
       "6.97634613789762"
      ],
      "text/plain": [
       "[1] 6.976346"
      ]
     },
     "metadata": {},
     "output_type": "display_data"
    }
   ],
   "source": [
    "v <- 2:38\n",
    "v <- v[v%%2==0]\n",
    "fracciones <- v/(v+1)\n",
    "fracciones2 <- fracciones\n",
    "fracciones2 <- cumprod(fracciones2)\n",
    "for(i in 2:length(fracciones)){\n",
    "    fracciones[i] <- fracciones[i]*fracciones[i-1]\n",
    "}\n",
    "fracciones2\n",
    "fracciones\n",
    "S <- 1 + sum(fracciones)\n",
    "S"
   ]
  }
 ],
 "metadata": {
  "kernelspec": {
   "display_name": "R",
   "language": "R",
   "name": "ir"
  },
  "language_info": {
   "codemirror_mode": "r",
   "file_extension": ".r",
   "mimetype": "text/x-r-source",
   "name": "R",
   "pygments_lexer": "r",
   "version": "3.4.1"
  }
 },
 "nbformat": 4,
 "nbformat_minor": 2
}
